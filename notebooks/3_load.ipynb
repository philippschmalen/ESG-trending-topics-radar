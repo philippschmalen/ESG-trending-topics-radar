{
 "cells": [
  {
   "cell_type": "code",
   "execution_count": 1,
   "id": "comic-internship",
   "metadata": {},
   "outputs": [
    {
     "name": "stdout",
     "output_type": "stream",
     "text": [
      "Writing ../pipelines/esg_trending_topics/load.py\n"
     ]
    }
   ],
   "source": [
    "%%writefile ../pipelines/esg_trending_topics/load.py\n",
    "\n",
    "import pandas as pd\n",
    "\n",
    "# ~------------------ LOAD ------------------~\n",
    "def write_to_csv(df, filename):\n",
    "    print('_'*42, f'\\nExport data, dimension: {df.shape} to\\t{filename}\\n')\n",
    "    print(df.head().to_markdown())\n",
    "    df.to_csv(f'{filename}', index=False) "
   ]
  }
 ],
 "metadata": {
  "kernelspec": {
   "display_name": "Python 3",
   "language": "python",
   "name": "python3"
  },
  "language_info": {
   "codemirror_mode": {
    "name": "ipython",
    "version": 3
   },
   "file_extension": ".py",
   "mimetype": "text/x-python",
   "name": "python",
   "nbconvert_exporter": "python",
   "pygments_lexer": "ipython3",
   "version": "3.7.9"
  }
 },
 "nbformat": 4,
 "nbformat_minor": 5
}
