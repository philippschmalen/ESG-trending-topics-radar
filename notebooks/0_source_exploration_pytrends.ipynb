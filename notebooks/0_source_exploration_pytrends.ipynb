{
 "cells": [
  {
   "cell_type": "markdown",
   "id": "labeled-coupon",
   "metadata": {},
   "source": [
    "# Goal\n",
    "\n",
    "The purpose of this notebook is to \n",
    "\n",
    "> explore data sources, packages and ways to inform about trending topics within ESG.\n",
    "\n",
    "The approach can then be generalized to other domains, such as data science, programing, food, ETFs or travel. \n",
    "\n",
    "The ideal data should have *search interest* for each keyword at time *t*. \n",
    "\n",
    "\n",
    "## pytrend\n",
    "\n",
    "Inpsect `build_payload`\n",
    "\n",
    "### Related Queries\n",
    " gprop: `['', 'images', 'news', 'youtube', 'froogle']`\n",
    " \n",
    "### TODO \n",
    "\n",
    "get queries across geo and gprop\n",
    "```\n",
    "GEO = ['global', 'us', 'gb', 'au', 'in', 'ca']\n",
    "\n",
    "GPROP = ['', 'news', 'youtube']\n",
    "```"
   ]
  },
  {
   "cell_type": "code",
   "execution_count": 1,
   "id": "desirable-trust",
   "metadata": {},
   "outputs": [
    {
     "name": "stdout",
     "output_type": "stream",
     "text": [
      "Collect pytrend related searches for project:\tsustainable-finance-trends\n",
      "\n",
      "|    | 0         | 1                                                      |\n",
      "|---:|:----------|:-------------------------------------------------------|\n",
      "|  0 | file_name | ../data/0_external/sustainable_finance_210228_0929.csv |\n",
      "|  1 | kw_list   | esg                                                    |\n",
      "|  1 | kw_list   | sustainable finance                                    |\n",
      "|  1 | kw_list   | sustainable investment                                 |\n",
      "|  1 | kw_list   | responsible investment                                 |\n",
      "|  2 | geo       | global                                                 |\n",
      "Query succeeded for\n",
      "\tesg\n",
      "\tsustainable finance\n",
      "\tsustainable investment\n",
      "\tresponsible investment\n",
      "__________________________________________ \n",
      "Export data, dimension: (151, 6) to\t../data/0_external/sustainable_finance_210228_0929.csv\n",
      "\n",
      "|    | query         |   value | keyword   | ranking   | geo    | query_timestamp            |\n",
      "|---:|:--------------|--------:|:----------|:----------|:-------|:---------------------------|\n",
      "|  0 | esg investing |     100 | esg       | top       | global | 2021-02-28 09:29:54.158419 |\n",
      "|  1 | esg fund      |      71 | esg       | top       | global | 2021-02-28 09:29:54.158419 |\n",
      "|  2 | esg 投資      |      63 | esg       | top       | global | 2021-02-28 09:29:54.158419 |\n",
      "|  3 | msci esg      |      62 | esg       | top       | global | 2021-02-28 09:29:54.158419 |\n",
      "|  4 | msci          |      62 | esg       | top       | global | 2021-02-28 09:29:54.158419 |\n"
     ]
    }
   ],
   "source": [
    "import pandas as pd\n",
    "from pytrends.request import TrendReq\n",
    "from datetime import datetime\n",
    "\n",
    "# ~------------------ CONFIG ------------------~\n",
    "SELECT_PROJECT = 'sustainable-finance-trends' # 'data-science-trends' # \n",
    "EXPORT_DATA    = True # store csv \n",
    "\n",
    "timestamp = datetime.now().strftime(\"%y%m%d_%H%M\")\n",
    "PROJECT = {\n",
    "            'sustainable-finance-trends': {\n",
    "                'file_name': f'../data/0_external/sustainable_finance_{timestamp}.csv',\n",
    "                'kw_list': ['esg', 'sustainable finance',  'sustainable investment', 'responsible investment'], \n",
    "                'geo': 'global'\n",
    "            },\n",
    "           'data-science-trends': {\n",
    "               'file_name': f'../data/0_external/data_science_{timestamp}.csv',\n",
    "               'kw_list': ['data science', 'machine learning', 'deep learning', 'artificial intelligence', 'ai'], \n",
    "               'geo': 'global'\n",
    "           },\n",
    "}\n",
    "\n",
    "print(f\"Collect pytrend related searches for project:\\t{SELECT_PROJECT}\\n\")\n",
    "print(pd.DataFrame(PROJECT[SELECT_PROJECT].items()).explode(1).to_markdown())\n",
    "\n",
    "# ~------------------ EXTRACT ------------------~\n",
    "def get_queries(kw_list):\n",
    "    \"\"\" Calls pytrend' related_queries with a list of keywords and geo settings \n",
    "    Input\n",
    "        pytrend: TrendReq() session of pytrend\n",
    "        kw_list: list of strings, used as input for query and passed to TrendReq().build_payload() \n",
    "    Return\n",
    "        Dataframe with query result\n",
    "    \"\"\"    \n",
    "    df_related_queries = pd.DataFrame()\n",
    "    try:\n",
    "        pytrend = TrendReq() \n",
    "        pytrend.build_payload(kw_list)\n",
    "        df_related_queries = pytrend.related_queries()\n",
    "\n",
    "        print(f\"Query succeeded for\", *kw_list, sep='\\n\\t')\n",
    "    except Exception as e:\n",
    "        print(e, \"\\nQuery not unsuccessful\\n\", '='*42)\n",
    "\n",
    "    return df_related_queries\n",
    "\n",
    "# ~------------------ TRANSFORM ------------------~\n",
    "def process_queries(related_queries, kw, ranking, geo):\n",
    "    try:\n",
    "        df = related_queries[kw][ranking]\n",
    "        df[['keyword', 'ranking', 'geo', 'query_timestamp']] = [kw, ranking, geo, datetime.now()]\n",
    "    except:\n",
    "        print(f\"Append empty dataframe for {ranking}: {kw}\")\n",
    "        return pd.DataFrame(columns=['query', 'value', 'keyword', 'ranking', 'geo', 'query_timestamp'])\n",
    "    \n",
    "    return df\n",
    "\n",
    "def create_df_related_queries(df_related_queries, geo='global'):\n",
    "    \"\"\" Build the dataframe for all keywords\n",
    "        Flatten Json format with nested lists to DataFrame\n",
    "    \"\"\"\n",
    "    try: \n",
    "        df = pd.concat(\n",
    "            [process_queries(\n",
    "                df_related_queries, kw, ranking=r, geo=geo\n",
    "            ) for r in [*df_related_queries[\n",
    "                            [*df_related_queries][0]]\n",
    "                       ] for kw in [*df_related_queries]])\n",
    "    except:\n",
    "        print(\"Google Trends returned nothing when calling related_queries(). Restart kernel and retry.\")\n",
    "        \n",
    "    return df\n",
    "\n",
    "# ~------------------ LOAD ------------------~\n",
    "def write_to_csv(df, filename):\n",
    "    print('_'*42, f'\\nExport data, dimension: {df.shape} to\\t{filename}\\n')\n",
    "    print(df.head().to_markdown())\n",
    "    df.to_csv(f'{filename}', index=False) \n",
    "\n",
    "dict_related_queries = get_queries(kw_list=PROJECT[SELECT_PROJECT]['kw_list'])\n",
    "df = create_df_related_queries(dict_related_queries)\n",
    "\n",
    "\n",
    "if EXPORT_DATA:\n",
    "    write_to_csv(df, filename=PROJECT[SELECT_PROJECT]['file_name'])"
   ]
  },
  {
   "cell_type": "markdown",
   "id": "wicked-storm",
   "metadata": {},
   "source": [
    "---"
   ]
  },
  {
   "cell_type": "markdown",
   "id": "creative-plate",
   "metadata": {},
   "source": [
    "## Trends data\n",
    "\n",
    "TODO: links to google with texttemplate\n",
    "\n",
    "### List files\n",
    "### Plot\n",
    "\n",
    "### Export to chart studio"
   ]
  },
  {
   "cell_type": "code",
   "execution_count": 3,
   "id": "nutritional-minimum",
   "metadata": {},
   "outputs": [
    {
     "name": "stdout",
     "output_type": "stream",
     "text": [
      "0 ../data/0_external\\data_science_210220_1241.csv\n",
      "1 ../data/0_external\\related_queries_210213_1046.csv\n",
      "2 ../data/0_external\\related_queries_210214_1014.csv\n",
      "3 ../data/0_external\\related_queries_210214_1435.csv\n",
      "4 ../data/0_external\\related_queries_210215_2133.csv\n",
      "5 ../data/0_external\\related_queries_210218_2021.csv\n",
      "6 ../data/0_external\\related_queries_210220_1029.csv\n",
      "7 ../data/0_external\\sustainable_finance_210223_2048.csv\n",
      "8 ../data/0_external\\sustainable_finance_210227_2137.csv\n",
      "9 ../data/0_external\\sustainable_finance_210228.csv\n",
      "10 ../data/0_external\\sustainable_finance_210228_0929.csv\n"
     ]
    }
   ],
   "source": [
    "from glob import glob\n",
    "for i, f in enumerate(glob('../data/0_external/*.csv')):\n",
    "    print(i,f)"
   ]
  },
  {
   "cell_type": "code",
   "execution_count": 14,
   "id": "satellite-heading",
   "metadata": {},
   "outputs": [],
   "source": [
    "import plotly.graph_objects as go\n",
    "from plotly.subplots import make_subplots\n",
    "import chart_studio.plotly as py\n",
    "\n",
    "# ~------------------ SELECT INPUT DATA ------------------~\n",
    "DATA_LOC = '../data/0_external\\sustainable_finance_210228_0929.csv'\n",
    "df_raw = pd.read_csv(DATA_LOC)\n",
    "df = df_raw.copy()\n",
    "\n",
    "## feature engineering: totals and normalize\n",
    "grouped = df.groupby(['ranking']).value # group values by ranking\n",
    "df['value_total'] = grouped.transform('sum') # total sum \n",
    "df['value_normalized'] = (df.value-grouped.transform('min'))/(grouped.transform('max')-grouped.transform('min')) # normalize \n",
    "df['value_normalized_total'] = df.groupby(['ranking']).value_normalized.transform('sum') # total sum of normalized values \n",
    "df['date'] = pd.to_datetime(df.query_timestamp).dt.strftime(\"%d. %B %Y\")\n",
    "\n",
    "# restrict on 5 hightest\n",
    "# df = df.loc[df.groupby([\"ranking\", \"keyword\"]).value_normalized.nlargest(5).reset_index().level_2,:] \n",
    "\n",
    "## labels\n",
    "df['labels'] = df['query'].apply(lambda x: x.replace(' ', '<br>')) # linebreaks\n",
    "df['ranking_label'] = df.ranking.replace({'top': f'Evergreens - updated {df.date[0]}',\n",
    "                                          'rising': f'Trending - updated {df.date[0]}'})\n",
    "\n",
    "\n",
    "# link labels\n",
    "def create_href(x, link_html=\"<a style='color:#9BCAB8; cursor:pointer' target='_blank' href='http://www.google.com/search?q={}'>{}</a>\"): # #<a href='http://www.google.com/search?q={} '> {}</a>\n",
    "    return link_html.format(x['query_insert_href'], x['labels'])\n",
    "\n",
    "df['query_insert_href'] = df['query'].str.replace(\" \", '+')\n",
    "df['labels_href'] = df.apply(create_href, axis=1)\n",
    "\n",
    "## top and rising\n",
    "dfr, dft = df.query('ranking == \"rising\"'),  df.query('ranking == \"top\"')"
   ]
  },
  {
   "cell_type": "code",
   "execution_count": 15,
   "id": "exclusive-belize",
   "metadata": {},
   "outputs": [
    {
     "data": {
      "text/plain": [
       "'28. February 2021'"
      ]
     },
     "execution_count": 15,
     "metadata": {},
     "output_type": "execute_result"
    }
   ],
   "source": [
    "df.date[0]"
   ]
  },
  {
   "cell_type": "code",
   "execution_count": 13,
   "id": "sustainable-carol",
   "metadata": {},
   "outputs": [
    {
     "data": {
      "application/vnd.plotly.v1+json": {
       "config": {
        "plotlyServerURL": "https://plotly.com"
       },
       "data": [
        {
         "domain": {
          "x": [
           0,
           1
          ],
          "y": [
           0.575,
           1
          ]
         },
         "hoverinfo": "label",
         "labels": [
          "sdgs",
          "esg<br>sdgs",
          "未来<br>の<br>世界<br>esg",
          "未来<br>の<br>世界",
          "axis<br>esg<br>fund",
          "axis<br>esg<br>equity<br>fund",
          "icici<br>esg<br>fund",
          "sdg",
          "esg<br>基金",
          "sbi<br>magnum<br>equity<br>esg<br>fund",
          "グローバル<br>esg<br>ハイ<br>クオリティ<br>成長<br>株式<br>ファンド",
          "sdgs<br>と<br>は",
          "esg<br>skyline",
          "イノベーティブ<br>フューチャー",
          "グローバル<br>プロ<br>スペクティブ<br>ファンド",
          "esg<br>経営<br>と<br>は",
          "esg<br>vertretungsplan",
          "元<br>大<br>台灣<br>esg<br>永<br>續",
          "esg<br>是<br>什麼",
          "esg<br>คือ",
          "fondi<br>esg",
          "esg<br>acronimo",
          "esg<br>tour<br>mykonos",
          "sbi<br>magnum<br>equity<br>esg<br>fund<br>regular<br>growth",
          "esg<br>nerdl",
          "eu<br>sustainable<br>finance",
          "sustainable<br>finance<br>action<br>plan",
          "taxonomy<br>sustainable<br>finance",
          "esg",
          "eu<br>sustainable<br>finance<br>action<br>plan",
          "eu<br>taxonomy<br>sustainable<br>finance",
          "sustainable<br>finance<br>european<br>commission",
          "sustainable<br>finance<br>disclosure<br>regulation",
          "eu<br>action<br>plan<br>on<br>sustainable<br>finance",
          "expert<br>panel<br>on<br>sustainable<br>finance",
          "high<br>level<br>expert<br>group<br>on<br>sustainable<br>finance",
          "hleg<br>sustainable<br>finance",
          "technical<br>expert<br>group<br>on<br>sustainable<br>finance",
          "goldman<br>sachs<br>sustainable<br>finance",
          "international<br>platform<br>on<br>sustainable<br>finance",
          "sustainable<br>finance<br>beirat",
          "eba<br>action<br>plan<br>on<br>sustainable<br>finance",
          "google<br>scholar",
          "regulation<br>sustainable<br>finance",
          "swiss<br>sustainable<br>finance",
          "sustainable<br>finance<br>jobs",
          "teg<br>sustainable<br>finance",
          "sustainable<br>finance<br>forum",
          "sustainable<br>finance<br>courses",
          "sustainable<br>finance<br>course",
          "global<br>sustainable<br>investment<br>review",
          "sustainable<br>investment<br>forum",
          "sustainable<br>and<br>responsible<br>investment",
          "global<br>sustainable<br>investment<br>alliance",
          "socially<br>responsible<br>investment<br>firms",
          "socially<br>responsible<br>investment<br>firm",
          "socially<br>responsible<br>investment<br>definition",
          "socially<br>responsible<br>investment<br>portfolio",
          "esg",
          "environmentally<br>responsible<br>investment",
          "pri",
          "pri<br>principles<br>for<br>responsible<br>investment",
          "socially<br>responsible<br>investment<br>advisors",
          "responsible<br>investment<br>association",
          "responsible<br>investment<br>strategies",
          "principles<br>of<br>responsible<br>investment",
          "responsible<br>investment<br>policy"
         ],
         "marker": {
          "cauto": true,
          "depthfade": true
         },
         "opacity": 1,
         "parents": [
          "Trending - updated 28. February 2021",
          "Trending - updated 28. February 2021",
          "Trending - updated 28. February 2021",
          "Trending - updated 28. February 2021",
          "Trending - updated 28. February 2021",
          "Trending - updated 28. February 2021",
          "Trending - updated 28. February 2021",
          "Trending - updated 28. February 2021",
          "Trending - updated 28. February 2021",
          "Trending - updated 28. February 2021",
          "Trending - updated 28. February 2021",
          "Trending - updated 28. February 2021",
          "Trending - updated 28. February 2021",
          "Trending - updated 28. February 2021",
          "Trending - updated 28. February 2021",
          "Trending - updated 28. February 2021",
          "Trending - updated 28. February 2021",
          "Trending - updated 28. February 2021",
          "Trending - updated 28. February 2021",
          "Trending - updated 28. February 2021",
          "Trending - updated 28. February 2021",
          "Trending - updated 28. February 2021",
          "Trending - updated 28. February 2021",
          "Trending - updated 28. February 2021",
          "Trending - updated 28. February 2021",
          "Trending - updated 28. February 2021",
          "Trending - updated 28. February 2021",
          "Trending - updated 28. February 2021",
          "Trending - updated 28. February 2021",
          "Trending - updated 28. February 2021",
          "Trending - updated 28. February 2021",
          "Trending - updated 28. February 2021",
          "Trending - updated 28. February 2021",
          "Trending - updated 28. February 2021",
          "Trending - updated 28. February 2021",
          "Trending - updated 28. February 2021",
          "Trending - updated 28. February 2021",
          "Trending - updated 28. February 2021",
          "Trending - updated 28. February 2021",
          "Trending - updated 28. February 2021",
          "Trending - updated 28. February 2021",
          "Trending - updated 28. February 2021",
          "Trending - updated 28. February 2021",
          "Trending - updated 28. February 2021",
          "Trending - updated 28. February 2021",
          "Trending - updated 28. February 2021",
          "Trending - updated 28. February 2021",
          "Trending - updated 28. February 2021",
          "Trending - updated 28. February 2021",
          "Trending - updated 28. February 2021",
          "Trending - updated 28. February 2021",
          "Trending - updated 28. February 2021",
          "Trending - updated 28. February 2021",
          "Trending - updated 28. February 2021",
          "Trending - updated 28. February 2021",
          "Trending - updated 28. February 2021",
          "Trending - updated 28. February 2021",
          "Trending - updated 28. February 2021",
          "Trending - updated 28. February 2021",
          "Trending - updated 28. February 2021",
          "Trending - updated 28. February 2021",
          "Trending - updated 28. February 2021",
          "Trending - updated 28. February 2021",
          "Trending - updated 28. February 2021",
          "Trending - updated 28. February 2021",
          "Trending - updated 28. February 2021",
          "Trending - updated 28. February 2021"
         ],
         "textfont": {
          "family": "Arial",
          "size": 24
         },
         "textposition": "middle center",
         "tiling": {
          "pad": 0,
          "squarifyratio": 1
         },
         "type": "treemap",
         "values": [
          0.14393752568845047,
          0.14278668310727496,
          0.1238799835593917,
          0.12198931360460337,
          0.1051376900945335,
          0.08836826962597616,
          0.048910809699958896,
          0.038553226469379365,
          0.03797780517879162,
          0.03460748047677764,
          0.03419646526921496,
          0.030908343608713522,
          0.02646937936703658,
          0.0219482120838471,
          0.020304151253596383,
          0.019235511713933416,
          0.01685162351006987,
          0.016193999177969584,
          0.01487875051376901,
          0.013070283600493218,
          0.012659268392930538,
          0.01183723797780518,
          0.010521989313604603,
          0.010357583230579531,
          0.010028771064529388,
          1,
          0.47990135635018494,
          0.3659679408138101,
          0.34656802301685163,
          0.31483764899301275,
          0.26099465680230166,
          0.1698314837648993,
          0.15182901767365392,
          0.12609946568023017,
          0.0749691738594328,
          0.07357172215371968,
          0.06280312371557747,
          0.05425400739827373,
          0.052609946568023015,
          0.042498972461981095,
          0.03115495273325113,
          0.02137279079325935,
          0.021208384710234278,
          0.0014796547472256474,
          0.00032881216605014385,
          0.0002466091245376079,
          0.00014796547472256474,
          0.00013152486642005755,
          8.220304151253596e-05,
          4.932182490752158e-05,
          0.0005754212905877518,
          0.00014796547472256474,
          3.288121660501439e-05,
          1.6440608302507194e-05,
          0.0008220304151253596,
          0.0004932182490752158,
          0.0004932182490752158,
          0.0002301685162351007,
          0.0001808466913275791,
          0.0001808466913275791,
          0.00014796547472256474,
          8.220304151253596e-05,
          6.576243321002877e-05,
          6.576243321002877e-05,
          4.932182490752158e-05,
          1.6440608302507194e-05,
          0
         ]
        },
        {
         "domain": {
          "x": [
           0,
           1
          ],
          "y": [
           0,
           0.425
          ]
         },
         "hoverinfo": "label",
         "labels": [
          "esg<br>investing",
          "esg<br>fund",
          "esg<br>投資",
          "msci<br>esg",
          "msci",
          "glas<br>esg",
          "esg<br>funds",
          "esg<br>etf",
          "esg<br>investment",
          "esg<br>index",
          "what<br>is<br>esg",
          "esg<br>meaning",
          "esg<br>report",
          "esg<br>finance",
          "gold<br>esg",
          "esg<br>paris",
          "esg<br>sustainability",
          "mba<br>esg",
          "esg<br>rating",
          "esg<br>data",
          "esg<br>group",
          "esg<br>scheideanstalt",
          "extranet",
          "esg<br>stock",
          "esg<br>reporting",
          "eu<br>sustainable<br>finance",
          "sustainable<br>finance<br>action<br>plan",
          "taxonomy<br>sustainable<br>finance",
          "esg",
          "regulation<br>sustainable<br>finance",
          "eu<br>sustainable<br>finance<br>action<br>plan",
          "what<br>is<br>sustainable<br>finance",
          "eu<br>taxonomy<br>sustainable<br>finance",
          "sustainable<br>finance<br>forum",
          "swiss<br>sustainable<br>finance",
          "sustainable<br>finance<br>jobs",
          "sustainable<br>finance<br>course",
          "sustainable<br>finance<br>european<br>commission",
          "sustainable<br>finance<br>disclosure<br>regulation",
          "yahoo<br>finance",
          "eu<br>action<br>plan<br>on<br>sustainable<br>finance",
          "sustainable<br>finance<br>geneva",
          "expert<br>panel<br>on<br>sustainable<br>finance",
          "high<br>level<br>expert<br>group<br>on<br>sustainable<br>finance",
          "teg<br>sustainable<br>finance",
          "sustainable<br>finance<br>courses",
          "hleg<br>sustainable<br>finance",
          "technical<br>expert<br>group<br>on<br>sustainable<br>finance",
          "goldman<br>sachs<br>sustainable<br>finance",
          "sustainable<br>finance<br>lab",
          "sustainable<br>finance",
          "sustainable<br>responsible<br>investment",
          "sustainable<br>investment<br>funds",
          "sustainable<br>investment<br>forum",
          "sustainable<br>and<br>responsible<br>investment",
          "global<br>sustainable<br>investment<br>alliance",
          "global<br>sustainable<br>investment<br>review",
          "sustainable<br>investment<br>definition",
          "journal<br>of<br>sustainable<br>finance<br>and<br>investment",
          "socially<br>responsible<br>investment",
          "principles<br>for<br>responsible<br>investment",
          "sustainable<br>responsible<br>investment",
          "responsible<br>investment<br>policy",
          "pri",
          "social<br>responsible<br>investment",
          "esg",
          "socially<br>responsible<br>investment<br>funds",
          "principles<br>of<br>responsible<br>investment",
          "sri",
          "responsible<br>investment<br>association",
          "sustainable<br>and<br>responsible<br>investment",
          "pri<br>principles<br>for<br>responsible<br>investment",
          "socially<br>responsible<br>investment<br>fund",
          "responsible<br>investment<br>strategies",
          "socially<br>responsible<br>investment<br>companies",
          "un<br>principles<br>for<br>responsible<br>investment",
          "socially<br>responsible<br>investment<br>firms",
          "socially<br>responsible<br>investment<br>portfolio",
          "socially<br>responsible<br>investment<br>firm",
          "socially<br>responsible<br>investment<br>definition",
          "responsible<br>investment<br>association<br>australasia",
          "environmentally<br>responsible<br>investment",
          "socially<br>responsible<br>investment<br>advisors",
          "responsible<br>agricultural<br>investment<br>principles"
         ],
         "marker": {
          "cauto": true,
          "depthfade": true
         },
         "opacity": 1,
         "parents": [
          "Evergreens - updated 28. February 2021",
          "Evergreens - updated 28. February 2021",
          "Evergreens - updated 28. February 2021",
          "Evergreens - updated 28. February 2021",
          "Evergreens - updated 28. February 2021",
          "Evergreens - updated 28. February 2021",
          "Evergreens - updated 28. February 2021",
          "Evergreens - updated 28. February 2021",
          "Evergreens - updated 28. February 2021",
          "Evergreens - updated 28. February 2021",
          "Evergreens - updated 28. February 2021",
          "Evergreens - updated 28. February 2021",
          "Evergreens - updated 28. February 2021",
          "Evergreens - updated 28. February 2021",
          "Evergreens - updated 28. February 2021",
          "Evergreens - updated 28. February 2021",
          "Evergreens - updated 28. February 2021",
          "Evergreens - updated 28. February 2021",
          "Evergreens - updated 28. February 2021",
          "Evergreens - updated 28. February 2021",
          "Evergreens - updated 28. February 2021",
          "Evergreens - updated 28. February 2021",
          "Evergreens - updated 28. February 2021",
          "Evergreens - updated 28. February 2021",
          "Evergreens - updated 28. February 2021",
          "Evergreens - updated 28. February 2021",
          "Evergreens - updated 28. February 2021",
          "Evergreens - updated 28. February 2021",
          "Evergreens - updated 28. February 2021",
          "Evergreens - updated 28. February 2021",
          "Evergreens - updated 28. February 2021",
          "Evergreens - updated 28. February 2021",
          "Evergreens - updated 28. February 2021",
          "Evergreens - updated 28. February 2021",
          "Evergreens - updated 28. February 2021",
          "Evergreens - updated 28. February 2021",
          "Evergreens - updated 28. February 2021",
          "Evergreens - updated 28. February 2021",
          "Evergreens - updated 28. February 2021",
          "Evergreens - updated 28. February 2021",
          "Evergreens - updated 28. February 2021",
          "Evergreens - updated 28. February 2021",
          "Evergreens - updated 28. February 2021",
          "Evergreens - updated 28. February 2021",
          "Evergreens - updated 28. February 2021",
          "Evergreens - updated 28. February 2021",
          "Evergreens - updated 28. February 2021",
          "Evergreens - updated 28. February 2021",
          "Evergreens - updated 28. February 2021",
          "Evergreens - updated 28. February 2021",
          "Evergreens - updated 28. February 2021",
          "Evergreens - updated 28. February 2021",
          "Evergreens - updated 28. February 2021",
          "Evergreens - updated 28. February 2021",
          "Evergreens - updated 28. February 2021",
          "Evergreens - updated 28. February 2021",
          "Evergreens - updated 28. February 2021",
          "Evergreens - updated 28. February 2021",
          "Evergreens - updated 28. February 2021",
          "Evergreens - updated 28. February 2021",
          "Evergreens - updated 28. February 2021",
          "Evergreens - updated 28. February 2021",
          "Evergreens - updated 28. February 2021",
          "Evergreens - updated 28. February 2021",
          "Evergreens - updated 28. February 2021",
          "Evergreens - updated 28. February 2021",
          "Evergreens - updated 28. February 2021",
          "Evergreens - updated 28. February 2021",
          "Evergreens - updated 28. February 2021",
          "Evergreens - updated 28. February 2021",
          "Evergreens - updated 28. February 2021",
          "Evergreens - updated 28. February 2021",
          "Evergreens - updated 28. February 2021",
          "Evergreens - updated 28. February 2021",
          "Evergreens - updated 28. February 2021",
          "Evergreens - updated 28. February 2021",
          "Evergreens - updated 28. February 2021",
          "Evergreens - updated 28. February 2021",
          "Evergreens - updated 28. February 2021",
          "Evergreens - updated 28. February 2021",
          "Evergreens - updated 28. February 2021",
          "Evergreens - updated 28. February 2021",
          "Evergreens - updated 28. February 2021",
          "Evergreens - updated 28. February 2021"
         ],
         "textfont": {
          "family": "Arial",
          "size": 24
         },
         "textposition": "middle center",
         "tiling": {
          "pad": 0,
          "squarifyratio": 1
         },
         "type": "treemap",
         "values": [
          1,
          0.7070707070707071,
          0.6262626262626263,
          0.6161616161616161,
          0.6161616161616161,
          0.5151515151515151,
          0.46464646464646464,
          0.4444444444444444,
          0.3939393939393939,
          0.3838383838383838,
          0.36363636363636365,
          0.36363636363636365,
          0.3434343434343434,
          0.3434343434343434,
          0.3333333333333333,
          0.32323232323232326,
          0.31313131313131315,
          0.31313131313131315,
          0.25252525252525254,
          0.25252525252525254,
          0.25252525252525254,
          0.23232323232323232,
          0.2222222222222222,
          0.2222222222222222,
          0.2222222222222222,
          1,
          0.47474747474747475,
          0.36363636363636365,
          0.3434343434343434,
          0.32323232323232326,
          0.30303030303030304,
          0.2727272727272727,
          0.25252525252525254,
          0.20202020202020202,
          0.20202020202020202,
          0.1717171717171717,
          0.16161616161616163,
          0.16161616161616163,
          0.1414141414141414,
          0.1414141414141414,
          0.12121212121212122,
          0.1111111111111111,
          0.0707070707070707,
          0.06060606060606061,
          0.06060606060606061,
          0.050505050505050504,
          0.050505050505050504,
          0.04040404040404041,
          0.04040404040404041,
          0.030303030303030304,
          1,
          0.9696969696969697,
          0.9393939393939394,
          0.5454545454545454,
          0.4444444444444444,
          0.42424242424242425,
          0.3838383838383838,
          0.2727272727272727,
          0.050505050505050504,
          1,
          0.5858585858585859,
          0.29292929292929293,
          0.29292929292929293,
          0.26262626262626265,
          0.26262626262626265,
          0.23232323232323232,
          0.20202020202020202,
          0.1919191919191919,
          0.15151515151515152,
          0.1414141414141414,
          0.1414141414141414,
          0.12121212121212122,
          0.12121212121212122,
          0.09090909090909091,
          0.08080808080808081,
          0.0707070707070707,
          0.06060606060606061,
          0.06060606060606061,
          0.04040404040404041,
          0.04040404040404041,
          0.020202020202020204,
          0.020202020202020204,
          0.010101010101010102,
          0
         ]
        }
       ],
       "layout": {
        "autosize": true,
        "margin": {
         "b": 10,
         "l": 10,
         "r": 10,
         "t": 10
        },
        "paper_bgcolor": "rgba(0, 0, 0, 0)",
        "plot_bgcolor": "rgba(0, 0, 0, 0)",
        "template": {
         "data": {
          "bar": [
           {
            "error_x": {
             "color": "#2a3f5f"
            },
            "error_y": {
             "color": "#2a3f5f"
            },
            "marker": {
             "line": {
              "color": "#E5ECF6",
              "width": 0.5
             }
            },
            "type": "bar"
           }
          ],
          "barpolar": [
           {
            "marker": {
             "line": {
              "color": "#E5ECF6",
              "width": 0.5
             }
            },
            "type": "barpolar"
           }
          ],
          "carpet": [
           {
            "aaxis": {
             "endlinecolor": "#2a3f5f",
             "gridcolor": "white",
             "linecolor": "white",
             "minorgridcolor": "white",
             "startlinecolor": "#2a3f5f"
            },
            "baxis": {
             "endlinecolor": "#2a3f5f",
             "gridcolor": "white",
             "linecolor": "white",
             "minorgridcolor": "white",
             "startlinecolor": "#2a3f5f"
            },
            "type": "carpet"
           }
          ],
          "choropleth": [
           {
            "colorbar": {
             "outlinewidth": 0,
             "ticks": ""
            },
            "type": "choropleth"
           }
          ],
          "contour": [
           {
            "colorbar": {
             "outlinewidth": 0,
             "ticks": ""
            },
            "colorscale": [
             [
              0,
              "#0d0887"
             ],
             [
              0.1111111111111111,
              "#46039f"
             ],
             [
              0.2222222222222222,
              "#7201a8"
             ],
             [
              0.3333333333333333,
              "#9c179e"
             ],
             [
              0.4444444444444444,
              "#bd3786"
             ],
             [
              0.5555555555555556,
              "#d8576b"
             ],
             [
              0.6666666666666666,
              "#ed7953"
             ],
             [
              0.7777777777777778,
              "#fb9f3a"
             ],
             [
              0.8888888888888888,
              "#fdca26"
             ],
             [
              1,
              "#f0f921"
             ]
            ],
            "type": "contour"
           }
          ],
          "contourcarpet": [
           {
            "colorbar": {
             "outlinewidth": 0,
             "ticks": ""
            },
            "type": "contourcarpet"
           }
          ],
          "heatmap": [
           {
            "colorbar": {
             "outlinewidth": 0,
             "ticks": ""
            },
            "colorscale": [
             [
              0,
              "#0d0887"
             ],
             [
              0.1111111111111111,
              "#46039f"
             ],
             [
              0.2222222222222222,
              "#7201a8"
             ],
             [
              0.3333333333333333,
              "#9c179e"
             ],
             [
              0.4444444444444444,
              "#bd3786"
             ],
             [
              0.5555555555555556,
              "#d8576b"
             ],
             [
              0.6666666666666666,
              "#ed7953"
             ],
             [
              0.7777777777777778,
              "#fb9f3a"
             ],
             [
              0.8888888888888888,
              "#fdca26"
             ],
             [
              1,
              "#f0f921"
             ]
            ],
            "type": "heatmap"
           }
          ],
          "heatmapgl": [
           {
            "colorbar": {
             "outlinewidth": 0,
             "ticks": ""
            },
            "colorscale": [
             [
              0,
              "#0d0887"
             ],
             [
              0.1111111111111111,
              "#46039f"
             ],
             [
              0.2222222222222222,
              "#7201a8"
             ],
             [
              0.3333333333333333,
              "#9c179e"
             ],
             [
              0.4444444444444444,
              "#bd3786"
             ],
             [
              0.5555555555555556,
              "#d8576b"
             ],
             [
              0.6666666666666666,
              "#ed7953"
             ],
             [
              0.7777777777777778,
              "#fb9f3a"
             ],
             [
              0.8888888888888888,
              "#fdca26"
             ],
             [
              1,
              "#f0f921"
             ]
            ],
            "type": "heatmapgl"
           }
          ],
          "histogram": [
           {
            "marker": {
             "colorbar": {
              "outlinewidth": 0,
              "ticks": ""
             }
            },
            "type": "histogram"
           }
          ],
          "histogram2d": [
           {
            "colorbar": {
             "outlinewidth": 0,
             "ticks": ""
            },
            "colorscale": [
             [
              0,
              "#0d0887"
             ],
             [
              0.1111111111111111,
              "#46039f"
             ],
             [
              0.2222222222222222,
              "#7201a8"
             ],
             [
              0.3333333333333333,
              "#9c179e"
             ],
             [
              0.4444444444444444,
              "#bd3786"
             ],
             [
              0.5555555555555556,
              "#d8576b"
             ],
             [
              0.6666666666666666,
              "#ed7953"
             ],
             [
              0.7777777777777778,
              "#fb9f3a"
             ],
             [
              0.8888888888888888,
              "#fdca26"
             ],
             [
              1,
              "#f0f921"
             ]
            ],
            "type": "histogram2d"
           }
          ],
          "histogram2dcontour": [
           {
            "colorbar": {
             "outlinewidth": 0,
             "ticks": ""
            },
            "colorscale": [
             [
              0,
              "#0d0887"
             ],
             [
              0.1111111111111111,
              "#46039f"
             ],
             [
              0.2222222222222222,
              "#7201a8"
             ],
             [
              0.3333333333333333,
              "#9c179e"
             ],
             [
              0.4444444444444444,
              "#bd3786"
             ],
             [
              0.5555555555555556,
              "#d8576b"
             ],
             [
              0.6666666666666666,
              "#ed7953"
             ],
             [
              0.7777777777777778,
              "#fb9f3a"
             ],
             [
              0.8888888888888888,
              "#fdca26"
             ],
             [
              1,
              "#f0f921"
             ]
            ],
            "type": "histogram2dcontour"
           }
          ],
          "mesh3d": [
           {
            "colorbar": {
             "outlinewidth": 0,
             "ticks": ""
            },
            "type": "mesh3d"
           }
          ],
          "parcoords": [
           {
            "line": {
             "colorbar": {
              "outlinewidth": 0,
              "ticks": ""
             }
            },
            "type": "parcoords"
           }
          ],
          "pie": [
           {
            "automargin": true,
            "type": "pie"
           }
          ],
          "scatter": [
           {
            "marker": {
             "colorbar": {
              "outlinewidth": 0,
              "ticks": ""
             }
            },
            "type": "scatter"
           }
          ],
          "scatter3d": [
           {
            "line": {
             "colorbar": {
              "outlinewidth": 0,
              "ticks": ""
             }
            },
            "marker": {
             "colorbar": {
              "outlinewidth": 0,
              "ticks": ""
             }
            },
            "type": "scatter3d"
           }
          ],
          "scattercarpet": [
           {
            "marker": {
             "colorbar": {
              "outlinewidth": 0,
              "ticks": ""
             }
            },
            "type": "scattercarpet"
           }
          ],
          "scattergeo": [
           {
            "marker": {
             "colorbar": {
              "outlinewidth": 0,
              "ticks": ""
             }
            },
            "type": "scattergeo"
           }
          ],
          "scattergl": [
           {
            "marker": {
             "colorbar": {
              "outlinewidth": 0,
              "ticks": ""
             }
            },
            "type": "scattergl"
           }
          ],
          "scattermapbox": [
           {
            "marker": {
             "colorbar": {
              "outlinewidth": 0,
              "ticks": ""
             }
            },
            "type": "scattermapbox"
           }
          ],
          "scatterpolar": [
           {
            "marker": {
             "colorbar": {
              "outlinewidth": 0,
              "ticks": ""
             }
            },
            "type": "scatterpolar"
           }
          ],
          "scatterpolargl": [
           {
            "marker": {
             "colorbar": {
              "outlinewidth": 0,
              "ticks": ""
             }
            },
            "type": "scatterpolargl"
           }
          ],
          "scatterternary": [
           {
            "marker": {
             "colorbar": {
              "outlinewidth": 0,
              "ticks": ""
             }
            },
            "type": "scatterternary"
           }
          ],
          "surface": [
           {
            "colorbar": {
             "outlinewidth": 0,
             "ticks": ""
            },
            "colorscale": [
             [
              0,
              "#0d0887"
             ],
             [
              0.1111111111111111,
              "#46039f"
             ],
             [
              0.2222222222222222,
              "#7201a8"
             ],
             [
              0.3333333333333333,
              "#9c179e"
             ],
             [
              0.4444444444444444,
              "#bd3786"
             ],
             [
              0.5555555555555556,
              "#d8576b"
             ],
             [
              0.6666666666666666,
              "#ed7953"
             ],
             [
              0.7777777777777778,
              "#fb9f3a"
             ],
             [
              0.8888888888888888,
              "#fdca26"
             ],
             [
              1,
              "#f0f921"
             ]
            ],
            "type": "surface"
           }
          ],
          "table": [
           {
            "cells": {
             "fill": {
              "color": "#EBF0F8"
             },
             "line": {
              "color": "white"
             }
            },
            "header": {
             "fill": {
              "color": "#C8D4E3"
             },
             "line": {
              "color": "white"
             }
            },
            "type": "table"
           }
          ]
         },
         "layout": {
          "annotationdefaults": {
           "arrowcolor": "#2a3f5f",
           "arrowhead": 0,
           "arrowwidth": 1
          },
          "autotypenumbers": "strict",
          "coloraxis": {
           "colorbar": {
            "outlinewidth": 0,
            "ticks": ""
           }
          },
          "colorscale": {
           "diverging": [
            [
             0,
             "#8e0152"
            ],
            [
             0.1,
             "#c51b7d"
            ],
            [
             0.2,
             "#de77ae"
            ],
            [
             0.3,
             "#f1b6da"
            ],
            [
             0.4,
             "#fde0ef"
            ],
            [
             0.5,
             "#f7f7f7"
            ],
            [
             0.6,
             "#e6f5d0"
            ],
            [
             0.7,
             "#b8e186"
            ],
            [
             0.8,
             "#7fbc41"
            ],
            [
             0.9,
             "#4d9221"
            ],
            [
             1,
             "#276419"
            ]
           ],
           "sequential": [
            [
             0,
             "#0d0887"
            ],
            [
             0.1111111111111111,
             "#46039f"
            ],
            [
             0.2222222222222222,
             "#7201a8"
            ],
            [
             0.3333333333333333,
             "#9c179e"
            ],
            [
             0.4444444444444444,
             "#bd3786"
            ],
            [
             0.5555555555555556,
             "#d8576b"
            ],
            [
             0.6666666666666666,
             "#ed7953"
            ],
            [
             0.7777777777777778,
             "#fb9f3a"
            ],
            [
             0.8888888888888888,
             "#fdca26"
            ],
            [
             1,
             "#f0f921"
            ]
           ],
           "sequentialminus": [
            [
             0,
             "#0d0887"
            ],
            [
             0.1111111111111111,
             "#46039f"
            ],
            [
             0.2222222222222222,
             "#7201a8"
            ],
            [
             0.3333333333333333,
             "#9c179e"
            ],
            [
             0.4444444444444444,
             "#bd3786"
            ],
            [
             0.5555555555555556,
             "#d8576b"
            ],
            [
             0.6666666666666666,
             "#ed7953"
            ],
            [
             0.7777777777777778,
             "#fb9f3a"
            ],
            [
             0.8888888888888888,
             "#fdca26"
            ],
            [
             1,
             "#f0f921"
            ]
           ]
          },
          "colorway": [
           "#636efa",
           "#EF553B",
           "#00cc96",
           "#ab63fa",
           "#FFA15A",
           "#19d3f3",
           "#FF6692",
           "#B6E880",
           "#FF97FF",
           "#FECB52"
          ],
          "font": {
           "color": "#2a3f5f"
          },
          "geo": {
           "bgcolor": "white",
           "lakecolor": "white",
           "landcolor": "#E5ECF6",
           "showlakes": true,
           "showland": true,
           "subunitcolor": "white"
          },
          "hoverlabel": {
           "align": "left"
          },
          "hovermode": "closest",
          "mapbox": {
           "style": "light"
          },
          "paper_bgcolor": "white",
          "plot_bgcolor": "#E5ECF6",
          "polar": {
           "angularaxis": {
            "gridcolor": "white",
            "linecolor": "white",
            "ticks": ""
           },
           "bgcolor": "#E5ECF6",
           "radialaxis": {
            "gridcolor": "white",
            "linecolor": "white",
            "ticks": ""
           }
          },
          "scene": {
           "xaxis": {
            "backgroundcolor": "#E5ECF6",
            "gridcolor": "white",
            "gridwidth": 2,
            "linecolor": "white",
            "showbackground": true,
            "ticks": "",
            "zerolinecolor": "white"
           },
           "yaxis": {
            "backgroundcolor": "#E5ECF6",
            "gridcolor": "white",
            "gridwidth": 2,
            "linecolor": "white",
            "showbackground": true,
            "ticks": "",
            "zerolinecolor": "white"
           },
           "zaxis": {
            "backgroundcolor": "#E5ECF6",
            "gridcolor": "white",
            "gridwidth": 2,
            "linecolor": "white",
            "showbackground": true,
            "ticks": "",
            "zerolinecolor": "white"
           }
          },
          "shapedefaults": {
           "line": {
            "color": "#2a3f5f"
           }
          },
          "ternary": {
           "aaxis": {
            "gridcolor": "white",
            "linecolor": "white",
            "ticks": ""
           },
           "baxis": {
            "gridcolor": "white",
            "linecolor": "white",
            "ticks": ""
           },
           "bgcolor": "#E5ECF6",
           "caxis": {
            "gridcolor": "white",
            "linecolor": "white",
            "ticks": ""
           }
          },
          "title": {
           "x": 0.05
          },
          "xaxis": {
           "automargin": true,
           "gridcolor": "white",
           "linecolor": "white",
           "ticks": "",
           "title": {
            "standoff": 15
           },
           "zerolinecolor": "white",
           "zerolinewidth": 2
          },
          "yaxis": {
           "automargin": true,
           "gridcolor": "white",
           "linecolor": "white",
           "ticks": "",
           "title": {
            "standoff": 15
           },
           "zerolinecolor": "white",
           "zerolinewidth": 2
          }
         }
        }
       }
      },
      "image/png": "[encoded data removed]",
      "text/html": [
       "<div>                            <div id=\"3c993b58-743e-4a3d-9aa6-ad949d25b866\" class=\"plotly-graph-div\" style=\"height:525px; width:100%;\"></div>            <script type=\"text/javascript\">                require([\"plotly\"], function(Plotly) {                    window.PLOTLYENV=window.PLOTLYENV || {};                                    if (document.getElementById(\"3c993b58-743e-4a3d-9aa6-ad949d25b866\")) {                    Plotly.newPlot(                        \"3c993b58-743e-4a3d-9aa6-ad949d25b866\",                        [{\"domain\": {\"x\": [0.0, 1.0], \"y\": [0.575, 1.0]}, \"hoverinfo\": \"label\", \"labels\": [\"sdgs\", \"esg<br>sdgs\", \"\\u672a\\u6765<br>\\u306e<br>\\u4e16\\u754c<br>esg\", \"\\u672a\\u6765<br>\\u306e<br>\\u4e16\\u754c\", \"axis<br>esg<br>fund\", \"axis<br>esg<br>equity<br>fund\", \"icici<br>esg<br>fund\", \"sdg\", \"esg<br>\\u57fa\\u91d1\", \"sbi<br>magnum<br>equity<br>esg<br>fund\", \"\\u30b0\\u30ed\\u30fc\\u30d0\\u30eb<br>esg<br>\\u30cf\\u30a4<br>\\u30af\\u30aa\\u30ea\\u30c6\\u30a3<br>\\u6210\\u9577<br>\\u682a\\u5f0f<br>\\u30d5\\u30a1\\u30f3\\u30c9\", \"sdgs<br>\\u3068<br>\\u306f\", \"esg<br>skyline\", \"\\u30a4\\u30ce\\u30d9\\u30fc\\u30c6\\u30a3\\u30d6<br>\\u30d5\\u30e5\\u30fc\\u30c1\\u30e3\\u30fc\", \"\\u30b0\\u30ed\\u30fc\\u30d0\\u30eb<br>\\u30d7\\u30ed<br>\\u30b9\\u30da\\u30af\\u30c6\\u30a3\\u30d6<br>\\u30d5\\u30a1\\u30f3\\u30c9\", \"esg<br>\\u7d4c\\u55b6<br>\\u3068<br>\\u306f\", \"esg<br>vertretungsplan\", \"\\u5143<br>\\u5927<br>\\u53f0\\u7063<br>esg<br>\\u6c38<br>\\u7e8c\", \"esg<br>\\u662f<br>\\u4ec0\\u9ebc\", \"esg<br>\\u0e04\\u0e37\\u0e2d\", \"fondi<br>esg\", \"esg<br>acronimo\", \"esg<br>tour<br>mykonos\", \"sbi<br>magnum<br>equity<br>esg<br>fund<br>regular<br>growth\", \"esg<br>nerdl\", \"eu<br>sustainable<br>finance\", \"sustainable<br>finance<br>action<br>plan\", \"taxonomy<br>sustainable<br>finance\", \"esg\", \"eu<br>sustainable<br>finance<br>action<br>plan\", \"eu<br>taxonomy<br>sustainable<br>finance\", \"sustainable<br>finance<br>european<br>commission\", \"sustainable<br>finance<br>disclosure<br>regulation\", \"eu<br>action<br>plan<br>on<br>sustainable<br>finance\", \"expert<br>panel<br>on<br>sustainable<br>finance\", \"high<br>level<br>expert<br>group<br>on<br>sustainable<br>finance\", \"hleg<br>sustainable<br>finance\", \"technical<br>expert<br>group<br>on<br>sustainable<br>finance\", \"goldman<br>sachs<br>sustainable<br>finance\", \"international<br>platform<br>on<br>sustainable<br>finance\", \"sustainable<br>finance<br>beirat\", \"eba<br>action<br>plan<br>on<br>sustainable<br>finance\", \"google<br>scholar\", \"regulation<br>sustainable<br>finance\", \"swiss<br>sustainable<br>finance\", \"sustainable<br>finance<br>jobs\", \"teg<br>sustainable<br>finance\", \"sustainable<br>finance<br>forum\", \"sustainable<br>finance<br>courses\", \"sustainable<br>finance<br>course\", \"global<br>sustainable<br>investment<br>review\", \"sustainable<br>investment<br>forum\", \"sustainable<br>and<br>responsible<br>investment\", \"global<br>sustainable<br>investment<br>alliance\", \"socially<br>responsible<br>investment<br>firms\", \"socially<br>responsible<br>investment<br>firm\", \"socially<br>responsible<br>investment<br>definition\", \"socially<br>responsible<br>investment<br>portfolio\", \"esg\", \"environmentally<br>responsible<br>investment\", \"pri\", \"pri<br>principles<br>for<br>responsible<br>investment\", \"socially<br>responsible<br>investment<br>advisors\", \"responsible<br>investment<br>association\", \"responsible<br>investment<br>strategies\", \"principles<br>of<br>responsible<br>investment\", \"responsible<br>investment<br>policy\"], \"marker\": {\"cauto\": true, \"depthfade\": true}, \"opacity\": 1, \"parents\": [\"Trending - updated 28. February 2021\", \"Trending - updated 28. February 2021\", \"Trending - updated 28. February 2021\", \"Trending - updated 28. February 2021\", \"Trending - updated 28. February 2021\", \"Trending - updated 28. February 2021\", \"Trending - updated 28. February 2021\", \"Trending - updated 28. February 2021\", \"Trending - updated 28. February 2021\", \"Trending - updated 28. February 2021\", \"Trending - updated 28. February 2021\", \"Trending - updated 28. February 2021\", \"Trending - updated 28. February 2021\", \"Trending - updated 28. February 2021\", \"Trending - updated 28. February 2021\", \"Trending - updated 28. February 2021\", \"Trending - updated 28. February 2021\", \"Trending - updated 28. February 2021\", \"Trending - updated 28. February 2021\", \"Trending - updated 28. February 2021\", \"Trending - updated 28. February 2021\", \"Trending - updated 28. February 2021\", \"Trending - updated 28. February 2021\", \"Trending - updated 28. February 2021\", \"Trending - updated 28. February 2021\", \"Trending - updated 28. February 2021\", \"Trending - updated 28. February 2021\", \"Trending - updated 28. February 2021\", \"Trending - updated 28. February 2021\", \"Trending - updated 28. February 2021\", \"Trending - updated 28. February 2021\", \"Trending - updated 28. February 2021\", \"Trending - updated 28. February 2021\", \"Trending - updated 28. February 2021\", \"Trending - updated 28. February 2021\", \"Trending - updated 28. February 2021\", \"Trending - updated 28. February 2021\", \"Trending - updated 28. February 2021\", \"Trending - updated 28. February 2021\", \"Trending - updated 28. February 2021\", \"Trending - updated 28. February 2021\", \"Trending - updated 28. February 2021\", \"Trending - updated 28. February 2021\", \"Trending - updated 28. February 2021\", \"Trending - updated 28. February 2021\", \"Trending - updated 28. February 2021\", \"Trending - updated 28. February 2021\", \"Trending - updated 28. February 2021\", \"Trending - updated 28. February 2021\", \"Trending - updated 28. February 2021\", \"Trending - updated 28. February 2021\", \"Trending - updated 28. February 2021\", \"Trending - updated 28. February 2021\", \"Trending - updated 28. February 2021\", \"Trending - updated 28. February 2021\", \"Trending - updated 28. February 2021\", \"Trending - updated 28. February 2021\", \"Trending - updated 28. February 2021\", \"Trending - updated 28. February 2021\", \"Trending - updated 28. February 2021\", \"Trending - updated 28. February 2021\", \"Trending - updated 28. February 2021\", \"Trending - updated 28. February 2021\", \"Trending - updated 28. February 2021\", \"Trending - updated 28. February 2021\", \"Trending - updated 28. February 2021\", \"Trending - updated 28. February 2021\"], \"textfont\": {\"family\": \"Arial\", \"size\": 24}, \"textposition\": \"middle center\", \"tiling\": {\"pad\": 0, \"squarifyratio\": 1}, \"type\": \"treemap\", \"values\": [0.14393752568845047, 0.14278668310727496, 0.1238799835593917, 0.12198931360460337, 0.1051376900945335, 0.08836826962597616, 0.048910809699958896, 0.038553226469379365, 0.03797780517879162, 0.03460748047677764, 0.03419646526921496, 0.030908343608713522, 0.02646937936703658, 0.0219482120838471, 0.020304151253596383, 0.019235511713933416, 0.01685162351006987, 0.016193999177969584, 0.01487875051376901, 0.013070283600493218, 0.012659268392930538, 0.01183723797780518, 0.010521989313604603, 0.010357583230579531, 0.010028771064529388, 1.0, 0.47990135635018494, 0.3659679408138101, 0.34656802301685163, 0.31483764899301275, 0.26099465680230166, 0.1698314837648993, 0.15182901767365392, 0.12609946568023017, 0.0749691738594328, 0.07357172215371968, 0.06280312371557747, 0.05425400739827373, 0.052609946568023015, 0.042498972461981095, 0.03115495273325113, 0.02137279079325935, 0.021208384710234278, 0.0014796547472256474, 0.00032881216605014385, 0.0002466091245376079, 0.00014796547472256474, 0.00013152486642005755, 8.220304151253596e-05, 4.932182490752158e-05, 0.0005754212905877518, 0.00014796547472256474, 3.288121660501439e-05, 1.6440608302507194e-05, 0.0008220304151253596, 0.0004932182490752158, 0.0004932182490752158, 0.0002301685162351007, 0.0001808466913275791, 0.0001808466913275791, 0.00014796547472256474, 8.220304151253596e-05, 6.576243321002877e-05, 6.576243321002877e-05, 4.932182490752158e-05, 1.6440608302507194e-05, 0.0]}, {\"domain\": {\"x\": [0.0, 1.0], \"y\": [0.0, 0.425]}, \"hoverinfo\": \"label\", \"labels\": [\"esg<br>investing\", \"esg<br>fund\", \"esg<br>\\u6295\\u8cc7\", \"msci<br>esg\", \"msci\", \"glas<br>esg\", \"esg<br>funds\", \"esg<br>etf\", \"esg<br>investment\", \"esg<br>index\", \"what<br>is<br>esg\", \"esg<br>meaning\", \"esg<br>report\", \"esg<br>finance\", \"gold<br>esg\", \"esg<br>paris\", \"esg<br>sustainability\", \"mba<br>esg\", \"esg<br>rating\", \"esg<br>data\", \"esg<br>group\", \"esg<br>scheideanstalt\", \"extranet\", \"esg<br>stock\", \"esg<br>reporting\", \"eu<br>sustainable<br>finance\", \"sustainable<br>finance<br>action<br>plan\", \"taxonomy<br>sustainable<br>finance\", \"esg\", \"regulation<br>sustainable<br>finance\", \"eu<br>sustainable<br>finance<br>action<br>plan\", \"what<br>is<br>sustainable<br>finance\", \"eu<br>taxonomy<br>sustainable<br>finance\", \"sustainable<br>finance<br>forum\", \"swiss<br>sustainable<br>finance\", \"sustainable<br>finance<br>jobs\", \"sustainable<br>finance<br>course\", \"sustainable<br>finance<br>european<br>commission\", \"sustainable<br>finance<br>disclosure<br>regulation\", \"yahoo<br>finance\", \"eu<br>action<br>plan<br>on<br>sustainable<br>finance\", \"sustainable<br>finance<br>geneva\", \"expert<br>panel<br>on<br>sustainable<br>finance\", \"high<br>level<br>expert<br>group<br>on<br>sustainable<br>finance\", \"teg<br>sustainable<br>finance\", \"sustainable<br>finance<br>courses\", \"hleg<br>sustainable<br>finance\", \"technical<br>expert<br>group<br>on<br>sustainable<br>finance\", \"goldman<br>sachs<br>sustainable<br>finance\", \"sustainable<br>finance<br>lab\", \"sustainable<br>finance\", \"sustainable<br>responsible<br>investment\", \"sustainable<br>investment<br>funds\", \"sustainable<br>investment<br>forum\", \"sustainable<br>and<br>responsible<br>investment\", \"global<br>sustainable<br>investment<br>alliance\", \"global<br>sustainable<br>investment<br>review\", \"sustainable<br>investment<br>definition\", \"journal<br>of<br>sustainable<br>finance<br>and<br>investment\", \"socially<br>responsible<br>investment\", \"principles<br>for<br>responsible<br>investment\", \"sustainable<br>responsible<br>investment\", \"responsible<br>investment<br>policy\", \"pri\", \"social<br>responsible<br>investment\", \"esg\", \"socially<br>responsible<br>investment<br>funds\", \"principles<br>of<br>responsible<br>investment\", \"sri\", \"responsible<br>investment<br>association\", \"sustainable<br>and<br>responsible<br>investment\", \"pri<br>principles<br>for<br>responsible<br>investment\", \"socially<br>responsible<br>investment<br>fund\", \"responsible<br>investment<br>strategies\", \"socially<br>responsible<br>investment<br>companies\", \"un<br>principles<br>for<br>responsible<br>investment\", \"socially<br>responsible<br>investment<br>firms\", \"socially<br>responsible<br>investment<br>portfolio\", \"socially<br>responsible<br>investment<br>firm\", \"socially<br>responsible<br>investment<br>definition\", \"responsible<br>investment<br>association<br>australasia\", \"environmentally<br>responsible<br>investment\", \"socially<br>responsible<br>investment<br>advisors\", \"responsible<br>agricultural<br>investment<br>principles\"], \"marker\": {\"cauto\": true, \"depthfade\": true}, \"opacity\": 1, \"parents\": [\"Evergreens - updated 28. February 2021\", \"Evergreens - updated 28. February 2021\", \"Evergreens - updated 28. February 2021\", \"Evergreens - updated 28. February 2021\", \"Evergreens - updated 28. February 2021\", \"Evergreens - updated 28. February 2021\", \"Evergreens - updated 28. February 2021\", \"Evergreens - updated 28. February 2021\", \"Evergreens - updated 28. February 2021\", \"Evergreens - updated 28. February 2021\", \"Evergreens - updated 28. February 2021\", \"Evergreens - updated 28. February 2021\", \"Evergreens - updated 28. February 2021\", \"Evergreens - updated 28. February 2021\", \"Evergreens - updated 28. February 2021\", \"Evergreens - updated 28. February 2021\", \"Evergreens - updated 28. February 2021\", \"Evergreens - updated 28. February 2021\", \"Evergreens - updated 28. February 2021\", \"Evergreens - updated 28. February 2021\", \"Evergreens - updated 28. February 2021\", \"Evergreens - updated 28. February 2021\", \"Evergreens - updated 28. February 2021\", \"Evergreens - updated 28. February 2021\", \"Evergreens - updated 28. February 2021\", \"Evergreens - updated 28. February 2021\", \"Evergreens - updated 28. February 2021\", \"Evergreens - updated 28. February 2021\", \"Evergreens - updated 28. February 2021\", \"Evergreens - updated 28. February 2021\", \"Evergreens - updated 28. February 2021\", \"Evergreens - updated 28. February 2021\", \"Evergreens - updated 28. February 2021\", \"Evergreens - updated 28. February 2021\", \"Evergreens - updated 28. February 2021\", \"Evergreens - updated 28. February 2021\", \"Evergreens - updated 28. February 2021\", \"Evergreens - updated 28. February 2021\", \"Evergreens - updated 28. February 2021\", \"Evergreens - updated 28. February 2021\", \"Evergreens - updated 28. February 2021\", \"Evergreens - updated 28. February 2021\", \"Evergreens - updated 28. February 2021\", \"Evergreens - updated 28. February 2021\", \"Evergreens - updated 28. February 2021\", \"Evergreens - updated 28. February 2021\", \"Evergreens - updated 28. February 2021\", \"Evergreens - updated 28. February 2021\", \"Evergreens - updated 28. February 2021\", \"Evergreens - updated 28. February 2021\", \"Evergreens - updated 28. February 2021\", \"Evergreens - updated 28. February 2021\", \"Evergreens - updated 28. February 2021\", \"Evergreens - updated 28. February 2021\", \"Evergreens - updated 28. February 2021\", \"Evergreens - updated 28. February 2021\", \"Evergreens - updated 28. February 2021\", \"Evergreens - updated 28. February 2021\", \"Evergreens - updated 28. February 2021\", \"Evergreens - updated 28. February 2021\", \"Evergreens - updated 28. February 2021\", \"Evergreens - updated 28. February 2021\", \"Evergreens - updated 28. February 2021\", \"Evergreens - updated 28. February 2021\", \"Evergreens - updated 28. February 2021\", \"Evergreens - updated 28. February 2021\", \"Evergreens - updated 28. February 2021\", \"Evergreens - updated 28. February 2021\", \"Evergreens - updated 28. February 2021\", \"Evergreens - updated 28. February 2021\", \"Evergreens - updated 28. February 2021\", \"Evergreens - updated 28. February 2021\", \"Evergreens - updated 28. February 2021\", \"Evergreens - updated 28. February 2021\", \"Evergreens - updated 28. February 2021\", \"Evergreens - updated 28. February 2021\", \"Evergreens - updated 28. February 2021\", \"Evergreens - updated 28. February 2021\", \"Evergreens - updated 28. February 2021\", \"Evergreens - updated 28. February 2021\", \"Evergreens - updated 28. February 2021\", \"Evergreens - updated 28. February 2021\", \"Evergreens - updated 28. February 2021\", \"Evergreens - updated 28. February 2021\"], \"textfont\": {\"family\": \"Arial\", \"size\": 24}, \"textposition\": \"middle center\", \"tiling\": {\"pad\": 0, \"squarifyratio\": 1}, \"type\": \"treemap\", \"values\": [1.0, 0.7070707070707071, 0.6262626262626263, 0.6161616161616161, 0.6161616161616161, 0.5151515151515151, 0.46464646464646464, 0.4444444444444444, 0.3939393939393939, 0.3838383838383838, 0.36363636363636365, 0.36363636363636365, 0.3434343434343434, 0.3434343434343434, 0.3333333333333333, 0.32323232323232326, 0.31313131313131315, 0.31313131313131315, 0.25252525252525254, 0.25252525252525254, 0.25252525252525254, 0.23232323232323232, 0.2222222222222222, 0.2222222222222222, 0.2222222222222222, 1.0, 0.47474747474747475, 0.36363636363636365, 0.3434343434343434, 0.32323232323232326, 0.30303030303030304, 0.2727272727272727, 0.25252525252525254, 0.20202020202020202, 0.20202020202020202, 0.1717171717171717, 0.16161616161616163, 0.16161616161616163, 0.1414141414141414, 0.1414141414141414, 0.12121212121212122, 0.1111111111111111, 0.0707070707070707, 0.06060606060606061, 0.06060606060606061, 0.050505050505050504, 0.050505050505050504, 0.04040404040404041, 0.04040404040404041, 0.030303030303030304, 1.0, 0.9696969696969697, 0.9393939393939394, 0.5454545454545454, 0.4444444444444444, 0.42424242424242425, 0.3838383838383838, 0.2727272727272727, 0.050505050505050504, 1.0, 0.5858585858585859, 0.29292929292929293, 0.29292929292929293, 0.26262626262626265, 0.26262626262626265, 0.23232323232323232, 0.20202020202020202, 0.1919191919191919, 0.15151515151515152, 0.1414141414141414, 0.1414141414141414, 0.12121212121212122, 0.12121212121212122, 0.09090909090909091, 0.08080808080808081, 0.0707070707070707, 0.06060606060606061, 0.06060606060606061, 0.04040404040404041, 0.04040404040404041, 0.020202020202020204, 0.020202020202020204, 0.010101010101010102, 0.0]}],                        {\"margin\": {\"b\": 10, \"l\": 10, \"r\": 10, \"t\": 10}, \"paper_bgcolor\": \"rgba(0, 0, 0, 0)\", \"plot_bgcolor\": \"rgba(0, 0, 0, 0)\", \"template\": {\"data\": {\"bar\": [{\"error_x\": {\"color\": \"#2a3f5f\"}, \"error_y\": {\"color\": \"#2a3f5f\"}, \"marker\": {\"line\": {\"color\": \"#E5ECF6\", \"width\": 0.5}}, \"type\": \"bar\"}], \"barpolar\": [{\"marker\": {\"line\": {\"color\": \"#E5ECF6\", \"width\": 0.5}}, \"type\": \"barpolar\"}], \"carpet\": [{\"aaxis\": {\"endlinecolor\": \"#2a3f5f\", \"gridcolor\": \"white\", \"linecolor\": \"white\", \"minorgridcolor\": \"white\", \"startlinecolor\": \"#2a3f5f\"}, \"baxis\": {\"endlinecolor\": \"#2a3f5f\", \"gridcolor\": \"white\", \"linecolor\": \"white\", \"minorgridcolor\": \"white\", \"startlinecolor\": \"#2a3f5f\"}, \"type\": \"carpet\"}], \"choropleth\": [{\"colorbar\": {\"outlinewidth\": 0, \"ticks\": \"\"}, \"type\": \"choropleth\"}], \"contour\": [{\"colorbar\": {\"outlinewidth\": 0, \"ticks\": \"\"}, \"colorscale\": [[0.0, \"#0d0887\"], [0.1111111111111111, \"#46039f\"], [0.2222222222222222, \"#7201a8\"], [0.3333333333333333, \"#9c179e\"], [0.4444444444444444, \"#bd3786\"], [0.5555555555555556, \"#d8576b\"], [0.6666666666666666, \"#ed7953\"], [0.7777777777777778, \"#fb9f3a\"], [0.8888888888888888, \"#fdca26\"], [1.0, \"#f0f921\"]], \"type\": \"contour\"}], \"contourcarpet\": [{\"colorbar\": {\"outlinewidth\": 0, \"ticks\": \"\"}, \"type\": \"contourcarpet\"}], \"heatmap\": [{\"colorbar\": {\"outlinewidth\": 0, \"ticks\": \"\"}, \"colorscale\": [[0.0, \"#0d0887\"], [0.1111111111111111, \"#46039f\"], [0.2222222222222222, \"#7201a8\"], [0.3333333333333333, \"#9c179e\"], [0.4444444444444444, \"#bd3786\"], [0.5555555555555556, \"#d8576b\"], [0.6666666666666666, \"#ed7953\"], [0.7777777777777778, \"#fb9f3a\"], [0.8888888888888888, \"#fdca26\"], [1.0, \"#f0f921\"]], \"type\": \"heatmap\"}], \"heatmapgl\": [{\"colorbar\": {\"outlinewidth\": 0, \"ticks\": \"\"}, \"colorscale\": [[0.0, \"#0d0887\"], [0.1111111111111111, \"#46039f\"], [0.2222222222222222, \"#7201a8\"], [0.3333333333333333, \"#9c179e\"], [0.4444444444444444, \"#bd3786\"], [0.5555555555555556, \"#d8576b\"], [0.6666666666666666, \"#ed7953\"], [0.7777777777777778, \"#fb9f3a\"], [0.8888888888888888, \"#fdca26\"], [1.0, \"#f0f921\"]], \"type\": \"heatmapgl\"}], \"histogram\": [{\"marker\": {\"colorbar\": {\"outlinewidth\": 0, \"ticks\": \"\"}}, \"type\": \"histogram\"}], \"histogram2d\": [{\"colorbar\": {\"outlinewidth\": 0, \"ticks\": \"\"}, \"colorscale\": [[0.0, \"#0d0887\"], [0.1111111111111111, \"#46039f\"], [0.2222222222222222, \"#7201a8\"], [0.3333333333333333, \"#9c179e\"], [0.4444444444444444, \"#bd3786\"], [0.5555555555555556, \"#d8576b\"], [0.6666666666666666, \"#ed7953\"], [0.7777777777777778, \"#fb9f3a\"], [0.8888888888888888, \"#fdca26\"], [1.0, \"#f0f921\"]], \"type\": \"histogram2d\"}], \"histogram2dcontour\": [{\"colorbar\": {\"outlinewidth\": 0, \"ticks\": \"\"}, \"colorscale\": [[0.0, \"#0d0887\"], [0.1111111111111111, \"#46039f\"], [0.2222222222222222, \"#7201a8\"], [0.3333333333333333, \"#9c179e\"], [0.4444444444444444, \"#bd3786\"], [0.5555555555555556, \"#d8576b\"], [0.6666666666666666, \"#ed7953\"], [0.7777777777777778, \"#fb9f3a\"], [0.8888888888888888, \"#fdca26\"], [1.0, \"#f0f921\"]], \"type\": \"histogram2dcontour\"}], \"mesh3d\": [{\"colorbar\": {\"outlinewidth\": 0, \"ticks\": \"\"}, \"type\": \"mesh3d\"}], \"parcoords\": [{\"line\": {\"colorbar\": {\"outlinewidth\": 0, \"ticks\": \"\"}}, \"type\": \"parcoords\"}], \"pie\": [{\"automargin\": true, \"type\": \"pie\"}], \"scatter\": [{\"marker\": {\"colorbar\": {\"outlinewidth\": 0, \"ticks\": \"\"}}, \"type\": \"scatter\"}], \"scatter3d\": [{\"line\": {\"colorbar\": {\"outlinewidth\": 0, \"ticks\": \"\"}}, \"marker\": {\"colorbar\": {\"outlinewidth\": 0, \"ticks\": \"\"}}, \"type\": \"scatter3d\"}], \"scattercarpet\": [{\"marker\": {\"colorbar\": {\"outlinewidth\": 0, \"ticks\": \"\"}}, \"type\": \"scattercarpet\"}], \"scattergeo\": [{\"marker\": {\"colorbar\": {\"outlinewidth\": 0, \"ticks\": \"\"}}, \"type\": \"scattergeo\"}], \"scattergl\": [{\"marker\": {\"colorbar\": {\"outlinewidth\": 0, \"ticks\": \"\"}}, \"type\": \"scattergl\"}], \"scattermapbox\": [{\"marker\": {\"colorbar\": {\"outlinewidth\": 0, \"ticks\": \"\"}}, \"type\": \"scattermapbox\"}], \"scatterpolar\": [{\"marker\": {\"colorbar\": {\"outlinewidth\": 0, \"ticks\": \"\"}}, \"type\": \"scatterpolar\"}], \"scatterpolargl\": [{\"marker\": {\"colorbar\": {\"outlinewidth\": 0, \"ticks\": \"\"}}, \"type\": \"scatterpolargl\"}], \"scatterternary\": [{\"marker\": {\"colorbar\": {\"outlinewidth\": 0, \"ticks\": \"\"}}, \"type\": \"scatterternary\"}], \"surface\": [{\"colorbar\": {\"outlinewidth\": 0, \"ticks\": \"\"}, \"colorscale\": [[0.0, \"#0d0887\"], [0.1111111111111111, \"#46039f\"], [0.2222222222222222, \"#7201a8\"], [0.3333333333333333, \"#9c179e\"], [0.4444444444444444, \"#bd3786\"], [0.5555555555555556, \"#d8576b\"], [0.6666666666666666, \"#ed7953\"], [0.7777777777777778, \"#fb9f3a\"], [0.8888888888888888, \"#fdca26\"], [1.0, \"#f0f921\"]], \"type\": \"surface\"}], \"table\": [{\"cells\": {\"fill\": {\"color\": \"#EBF0F8\"}, \"line\": {\"color\": \"white\"}}, \"header\": {\"fill\": {\"color\": \"#C8D4E3\"}, \"line\": {\"color\": \"white\"}}, \"type\": \"table\"}]}, \"layout\": {\"annotationdefaults\": {\"arrowcolor\": \"#2a3f5f\", \"arrowhead\": 0, \"arrowwidth\": 1}, \"autotypenumbers\": \"strict\", \"coloraxis\": {\"colorbar\": {\"outlinewidth\": 0, \"ticks\": \"\"}}, \"colorscale\": {\"diverging\": [[0, \"#8e0152\"], [0.1, \"#c51b7d\"], [0.2, \"#de77ae\"], [0.3, \"#f1b6da\"], [0.4, \"#fde0ef\"], [0.5, \"#f7f7f7\"], [0.6, \"#e6f5d0\"], [0.7, \"#b8e186\"], [0.8, \"#7fbc41\"], [0.9, \"#4d9221\"], [1, \"#276419\"]], \"sequential\": [[0.0, \"#0d0887\"], [0.1111111111111111, \"#46039f\"], [0.2222222222222222, \"#7201a8\"], [0.3333333333333333, \"#9c179e\"], [0.4444444444444444, \"#bd3786\"], [0.5555555555555556, \"#d8576b\"], [0.6666666666666666, \"#ed7953\"], [0.7777777777777778, \"#fb9f3a\"], [0.8888888888888888, \"#fdca26\"], [1.0, \"#f0f921\"]], \"sequentialminus\": [[0.0, \"#0d0887\"], [0.1111111111111111, \"#46039f\"], [0.2222222222222222, \"#7201a8\"], [0.3333333333333333, \"#9c179e\"], [0.4444444444444444, \"#bd3786\"], [0.5555555555555556, \"#d8576b\"], [0.6666666666666666, \"#ed7953\"], [0.7777777777777778, \"#fb9f3a\"], [0.8888888888888888, \"#fdca26\"], [1.0, \"#f0f921\"]]}, \"colorway\": [\"#636efa\", \"#EF553B\", \"#00cc96\", \"#ab63fa\", \"#FFA15A\", \"#19d3f3\", \"#FF6692\", \"#B6E880\", \"#FF97FF\", \"#FECB52\"], \"font\": {\"color\": \"#2a3f5f\"}, \"geo\": {\"bgcolor\": \"white\", \"lakecolor\": \"white\", \"landcolor\": \"#E5ECF6\", \"showlakes\": true, \"showland\": true, \"subunitcolor\": \"white\"}, \"hoverlabel\": {\"align\": \"left\"}, \"hovermode\": \"closest\", \"mapbox\": {\"style\": \"light\"}, \"paper_bgcolor\": \"white\", \"plot_bgcolor\": \"#E5ECF6\", \"polar\": {\"angularaxis\": {\"gridcolor\": \"white\", \"linecolor\": \"white\", \"ticks\": \"\"}, \"bgcolor\": \"#E5ECF6\", \"radialaxis\": {\"gridcolor\": \"white\", \"linecolor\": \"white\", \"ticks\": \"\"}}, \"scene\": {\"xaxis\": {\"backgroundcolor\": \"#E5ECF6\", \"gridcolor\": \"white\", \"gridwidth\": 2, \"linecolor\": \"white\", \"showbackground\": true, \"ticks\": \"\", \"zerolinecolor\": \"white\"}, \"yaxis\": {\"backgroundcolor\": \"#E5ECF6\", \"gridcolor\": \"white\", \"gridwidth\": 2, \"linecolor\": \"white\", \"showbackground\": true, \"ticks\": \"\", \"zerolinecolor\": \"white\"}, \"zaxis\": {\"backgroundcolor\": \"#E5ECF6\", \"gridcolor\": \"white\", \"gridwidth\": 2, \"linecolor\": \"white\", \"showbackground\": true, \"ticks\": \"\", \"zerolinecolor\": \"white\"}}, \"shapedefaults\": {\"line\": {\"color\": \"#2a3f5f\"}}, \"ternary\": {\"aaxis\": {\"gridcolor\": \"white\", \"linecolor\": \"white\", \"ticks\": \"\"}, \"baxis\": {\"gridcolor\": \"white\", \"linecolor\": \"white\", \"ticks\": \"\"}, \"bgcolor\": \"#E5ECF6\", \"caxis\": {\"gridcolor\": \"white\", \"linecolor\": \"white\", \"ticks\": \"\"}}, \"title\": {\"x\": 0.05}, \"xaxis\": {\"automargin\": true, \"gridcolor\": \"white\", \"linecolor\": \"white\", \"ticks\": \"\", \"title\": {\"standoff\": 15}, \"zerolinecolor\": \"white\", \"zerolinewidth\": 2}, \"yaxis\": {\"automargin\": true, \"gridcolor\": \"white\", \"linecolor\": \"white\", \"ticks\": \"\", \"title\": {\"standoff\": 15}, \"zerolinecolor\": \"white\", \"zerolinewidth\": 2}}}},                        {\"responsive\": true}                    ).then(function(){\n",
       "                            \n",
       "var gd = document.getElementById('3c993b58-743e-4a3d-9aa6-ad949d25b866');\n",
       "var x = new MutationObserver(function (mutations, observer) {{\n",
       "        var display = window.getComputedStyle(gd).display;\n",
       "        if (!display || display === 'none') {{\n",
       "            console.log([gd, 'removed!']);\n",
       "            Plotly.purge(gd);\n",
       "            observer.disconnect();\n",
       "        }}\n",
       "}});\n",
       "\n",
       "// Listen for the removal of the full notebook cells\n",
       "var notebookContainer = gd.closest('#notebook-container');\n",
       "if (notebookContainer) {{\n",
       "    x.observe(notebookContainer, {childList: true});\n",
       "}}\n",
       "\n",
       "// Listen for the clearing of the current output cell\n",
       "var outputEl = gd.closest('.output');\n",
       "if (outputEl) {{\n",
       "    x.observe(outputEl, {childList: true});\n",
       "}}\n",
       "\n",
       "                        })                };                });            </script>        </div>"
      ]
     },
     "metadata": {},
     "output_type": "display_data"
    },
    {
     "data": {
      "text/plain": [
       "'https://plotly.com/~philippschmalen/17/'"
      ]
     },
     "execution_count": 13,
     "metadata": {},
     "output_type": "execute_result"
    }
   ],
   "source": [
    "fig = make_subplots(2, 1,\n",
    "                    specs=[[{\"type\": \"domain\"}], [ {\"type\": \"domain\"}]])\n",
    "\n",
    "fig.add_trace(go.Treemap(\n",
    "    labels = dfr['labels'], #_href\n",
    "    parents = dfr.ranking_label, \n",
    "    values = dfr.value_normalized, \n",
    "), 1, 1)\n",
    "\n",
    "fig.add_trace(go.Treemap(\n",
    "    labels = dft['labels'],\n",
    "    parents = dft.ranking_label, \n",
    "    values = dft.value_normalized\n",
    "), 2, 1)\n",
    "\n",
    "fig.update_layout(margin=dict(t=10, b=10, r=10, l=10), \n",
    "#                   width=1200,\n",
    "#                   height=900, \n",
    "                  plot_bgcolor= \"rgba(0, 0, 0, 0)\",\n",
    "                  paper_bgcolor= \"rgba(0, 0, 0, 0)\",\n",
    "#                  title_text=f'Updated: {df.date[0]}', \n",
    "#                  title_font_size=14\n",
    "                 )\n",
    "\n",
    "fig.update_traces(\n",
    "    opacity=1, \n",
    "    textposition='middle center', \n",
    "    textfont={'family':\"Arial\", 'size': 20}, \n",
    "    hoverinfo= \"label\", # \"skip\",\n",
    "    tiling = {'squarifyratio': 1, 'pad': 0}, \n",
    "    textfont_size=24, \n",
    "    marker={\n",
    "#         'colors': df.index,\n",
    "        'depthfade': True,\n",
    "        'cauto': True,\n",
    "#         'colorscale': 'Greys'\n",
    "    }\n",
    ")\n",
    "\n",
    "fig.show()\n",
    "\n",
    "py.plot(fig, filename=SELECT_PROJECT)"
   ]
  },
  {
   "cell_type": "code",
   "execution_count": 8,
   "id": "active-trouble",
   "metadata": {},
   "outputs": [
    {
     "data": {
      "text/plain": [
       "'sustainable-finance-trends'"
      ]
     },
     "execution_count": 8,
     "metadata": {},
     "output_type": "execute_result"
    }
   ],
   "source": [
    "SELECT_PROJECT"
   ]
  },
  {
   "cell_type": "markdown",
   "id": "bottom-transformation",
   "metadata": {},
   "source": [
    "---"
   ]
  },
  {
   "cell_type": "markdown",
   "id": "uniform-essay",
   "metadata": {},
   "source": [
    "## Dash"
   ]
  },
  {
   "cell_type": "code",
   "execution_count": 11,
   "id": "organized-shock",
   "metadata": {},
   "outputs": [],
   "source": [
    "# %load ../output/dash/app.py\n",
    "\"\"\"\n",
    "\n",
    "This is an example of the app.py file for a dash app deployed on Heroku. \n",
    "It creates http://esg-trending-test.herokuapp.com/\n",
    "\n",
    "Follow the steps on https://dash.plotly.com/deployment \n",
    "to delploy the app with Heroku.\n",
    "\n",
    "Note: \n",
    "    Put your data into the same folder or subfolder where `app.py` lives.\n",
    "\n",
    "    I used a conda virtual environment, but installed all required packages \n",
    "    with `pip install` instead of `conda install`. This ensures that the \n",
    "    requirements.txt is readable by the Heroku Dyno. \n",
    "\n",
    "\n",
    "Author: Philipp Schmalen\n",
    "License: MIT\n",
    "\n",
    "\"\"\"\n",
    "\n",
    "import os\n",
    "import pandas as pd\n",
    "\n",
    "# plotly\n",
    "import plotly.graph_objects as go\n",
    "from plotly.subplots import make_subplots\n",
    "\n",
    "# dash\n",
    "import dash\n",
    "import dash_core_components as dcc\n",
    "import dash_html_components as html\n",
    "\n",
    "\n",
    "#~ --------------- SETTINGS --------------- ~\n",
    "DATA_DIR = './data/'                # <WHERE YOUR DATA LIVES>\n",
    "FILENAME = 'related_queries_210218_2021.csv' # <NAME OF THE FILE>.csv\n",
    "#~ ---------------------------------------- ~\n",
    "\n",
    "\n",
    "\n",
    "#~ --------------- DATA PREPARATION --------------- ~\n",
    "def load_data(data_dir, filename):\n",
    "    df_raw = pd.read_csv(os.path.join(DATA_DIR, FILENAME))\n",
    "    df = df_raw.copy()\n",
    "\n",
    "    return df\n",
    "\n",
    "def prepare_data(df):\n",
    "    \"\"\" Feature engineering for Google trends 'related queries'\n",
    "    \n",
    "    Input\n",
    "        df: dataframe\n",
    "    Return\n",
    "        dfr, dft: dataframes with rising search interest (r) and top search interest (t)  \n",
    "\n",
    "    \"\"\"\n",
    "    # feature engineering: totals and normalize\n",
    "    grouped = df.groupby(['ranking']).value # group values by ranking\n",
    "    df['value_total'] = grouped.transform('sum') # total sum \n",
    "    df['value_normalized'] = (df.value-grouped.transform('min'))/(grouped.transform('max')-grouped.transform('min')) # normalize \n",
    "    df['value_normalized_total'] = df.groupby(['ranking']).value_normalized.transform('sum') # total sum of normalized values \n",
    "    \n",
    "    # labelling\n",
    "    df['labels'] = df['query'].apply(lambda x: x.replace(' ', '<br>'))\n",
    "    df['ranking_label'] = df.ranking.replace({'top': 'Evergreens', 'rising': 'Trending'})\n",
    "    \n",
    "    # rankings: top (t) and rising (r)\n",
    "    dfr, dft = df.query('ranking == \"rising\"'),  df.query('ranking == \"top\"')\n",
    "\n",
    "    return dfr, dft\n",
    "\n",
    "#~ --------------- PIPELINE --------------- ~\n",
    "dfr, dft = (load_data(DATA_DIR, FILENAME)\n",
    "                .pipe(prepare_data))\n",
    "\n",
    "#~ --------------- PLOT --------------- ~\n",
    "fig = make_subplots(2, 1,\n",
    "                    specs=[[{\"type\": \"domain\"}], [ {\"type\": \"domain\"}]])\n",
    "\n",
    "fig.add_trace(go.Treemap(\n",
    "    labels = dfr['labels'],\n",
    "    parents = dfr.ranking_label, \n",
    "    values = dfr.value_normalized, \n",
    "), 1, 1)\n",
    "\n",
    "fig.add_trace(go.Treemap(\n",
    "    \n",
    "    labels = dft['labels'],\n",
    "    parents = dft.ranking_label, \n",
    "    values = dft.value_normalized\n",
    "), 2, 1)\n",
    "\n",
    "fig.update_layout(margin=dict(t=10, b=10, r=10, l=10))\n",
    "\n",
    "fig.update_traces(\n",
    "    opacity=1, \n",
    "    textposition='middle center', \n",
    "    textfont={'family':\"Arial\", 'size': 18}, \n",
    "    hoverinfo= \"label\",\n",
    "    tiling = {'squarifyratio': 1, 'pad': 0}, \n",
    "    marker = {'depthfade': False}\n",
    ")\n",
    "\n",
    "\n",
    "external_stylesheets = ['https://codepen.io/chriddyp/pen/bWLwgP.css']\n",
    "\n",
    "\n",
    "app = dash.Dash(__name__, external_stylesheets=external_stylesheets)\n",
    "server = app.server\n",
    "\n",
    "app.layout = html.Div(children=[\n",
    "    html.H1(children='Trending topics in sustainable finance'),\n",
    "\n",
    "    html.Div(children='''\n",
    "        Know what people search\n",
    "    '''),\n",
    "\n",
    "    dcc.Graph(\n",
    "        id='example-graph',\n",
    "        figure=fig\n",
    "    )\n",
    "])\n",
    "\n",
    "if __name__ == '__main__':\n",
    "    app.run_server(debug=True)\n"
   ]
  },
  {
   "cell_type": "markdown",
   "id": "electrical-times",
   "metadata": {},
   "source": [
    "#### Defining the Layout of Your Dash Application\n",
    "\n",
    "Next, you’ll define the layout property of your application. This property dictates the look of your app. In this case, you’ll use a heading with a description below it and two graphs. Here’s how you define it:"
   ]
  },
  {
   "cell_type": "markdown",
   "id": "passive-rover",
   "metadata": {},
   "source": [
    "# Dump"
   ]
  },
  {
   "cell_type": "markdown",
   "id": "stupid-discount",
   "metadata": {},
   "source": [
    "## Pandas profiling"
   ]
  },
  {
   "cell_type": "code",
   "execution_count": 20,
   "id": "fundamental-proportion",
   "metadata": {},
   "outputs": [],
   "source": [
    "from pandas_profiling import ProfileReport\n",
    "\n",
    "from glob import glob\n",
    "\n",
    "\n",
    "df = pd.read_csv(glob('../data/0_external/*210213*.csv')[0])\n",
    "profile = ProfileReport(df, title=\"Pandas Profiling Report\", explorative=True)\n",
    "\n",
    "profile"
   ]
  },
  {
   "cell_type": "markdown",
   "id": "fatal-catalog",
   "metadata": {},
   "source": [
    "### Query overview"
   ]
  },
  {
   "cell_type": "markdown",
   "id": "documented-carbon",
   "metadata": {},
   "source": [
    "#### Other approach, refactored"
   ]
  },
  {
   "cell_type": "code",
   "execution_count": 84,
   "id": "increasing-swimming",
   "metadata": {},
   "outputs": [
    {
     "name": "stdout",
     "output_type": "stream",
     "text": [
      "esg >>> top >>> DataFrame (25, 2) ['query' 'value']\n",
      "esg >>> rising >>> DataFrame (25, 2) ['query' 'value']\n",
      "sustainable finance >>> top >>> DataFrame (24, 2) ['query' 'value']\n",
      "sustainable finance >>> rising >>> DataFrame (21, 2) ['query' 'value']\n",
      "sustainable investment >>> top >>> DataFrame (14, 2) ['query' 'value']\n",
      "sustainable investment >>> rising >>> DataFrame (11, 2) ['query' 'value']\n"
     ]
    }
   ],
   "source": [
    "# unpack nested dict {keyword: {ranking: {DataFrame}} }\n",
    "final_df = pd.DataFrame()\n",
    "for keyword, ranking in related_queries_dict.items():\n",
    "    for ranking_name, df in ranking.items():\n",
    "        print(keyword, '>>>',ranking_name, '>>> DataFrame',df.shape, df.columns.values)\n",
    "\n",
    "        \n",
    "#     print(key, value.keys())\n",
    "#     df = value\n",
    "#     df.loc[:,'Country'] = key\n",
    "#     final_df = pd.concat([df, final_df], 0)\n",
    "# final_df"
   ]
  },
  {
   "cell_type": "markdown",
   "id": "legislative-denial",
   "metadata": {},
   "source": [
    "#### Keyword suggestions"
   ]
  },
  {
   "cell_type": "code",
   "execution_count": 34,
   "id": "seeing-vertical",
   "metadata": {},
   "outputs": [],
   "source": [
    "suggestions_dict = pytrend.suggestions(keyword=kw_list[3])\n",
    "pd.DataFrame(suggestions_dict)"
   ]
  },
  {
   "cell_type": "code",
   "execution_count": 35,
   "id": "surrounded-console",
   "metadata": {},
   "outputs": [
    {
     "name": "stdout",
     "output_type": "stream",
     "text": [
      "[{'mid': '/m/03cz3m_', 'title': 'Principles for Responsible Investment', 'type': 'Topic'}] \n",
      "\n",
      "[{'mid': '/g/11c740t89k', 'title': 'Investment Fund for Developing Countries', 'type': 'Company'}] \n",
      "\n"
     ]
    }
   ],
   "source": [
    "print(pytrend.suggestions(keyword='sustainable investment'), '\\n')\n",
    "print(pytrend.suggestions(keyword='sustainable investment funds'), '\\n')"
   ]
  },
  {
   "cell_type": "markdown",
   "id": "artistic-stable",
   "metadata": {},
   "source": [
    "#### Interest by region"
   ]
  },
  {
   "cell_type": "code",
   "execution_count": 38,
   "id": "center-resort",
   "metadata": {},
   "outputs": [
    {
     "name": "stdout",
     "output_type": "stream",
     "text": [
      "                esg  sustainable finance  sustainable investment\n",
      "geoName                                                         \n",
      "Afghanistan       0                    0                       0\n",
      "Albania           0                    0                       0\n",
      "Algeria         100                    0                       0\n",
      "American Samoa    0                    0                       0\n",
      "Andorra           0                    0                       0\n"
     ]
    }
   ],
   "source": [
    "# Interest by Region\n",
    "interest_by_region_df = pytrend.interest_by_region()\n",
    "print(interest_by_region_df.head())"
   ]
  },
  {
   "cell_type": "code",
   "execution_count": 62,
   "id": "formed-creek",
   "metadata": {},
   "outputs": [
    {
     "data": {
      "text/plain": [
       "geoName\n",
       "Luxembourg              20\n",
       "Belgium                 18\n",
       "Switzerland             15\n",
       "Ireland                 14\n",
       "Netherlands             13\n",
       "New Zealand             13\n",
       "Indonesia               12\n",
       "United Arab Emirates    12\n",
       "Philippines             10\n",
       "Sweden                  10\n",
       "Name: sustainable finance, dtype: int32"
      ]
     },
     "execution_count": 62,
     "metadata": {},
     "output_type": "execute_result"
    }
   ],
   "source": [
    "interest_by_region_df['sustainable finance'].nlargest(10)"
   ]
  },
  {
   "cell_type": "code",
   "execution_count": 63,
   "id": "genetic-promotion",
   "metadata": {},
   "outputs": [
    {
     "data": {
      "text/plain": [
       "geoName\n",
       "United Arab Emirates    9\n",
       "Philippines             8\n",
       "Malaysia                7\n",
       "Australia               6\n",
       "Belgium                 5\n",
       "Netherlands             5\n",
       "United Kingdom          5\n",
       "India                   4\n",
       "South Africa            4\n",
       "Switzerland             4\n",
       "Name: sustainable investment, dtype: int32"
      ]
     },
     "execution_count": 63,
     "metadata": {},
     "output_type": "execute_result"
    }
   ],
   "source": [
    "interest_by_region_df['sustainable investment'].nlargest(10)"
   ]
  },
  {
   "cell_type": "code",
   "execution_count": 37,
   "id": "functioning-ocean",
   "metadata": {},
   "outputs": [],
   "source": [
    "# Interest Over Time\n",
    "interest_over_time_df = pytrend.interest_over_time()\n",
    "print(interest_over_time_df.head())"
   ]
  },
  {
   "cell_type": "code",
   "execution_count": 46,
   "id": "armed-edgar",
   "metadata": {
    "collapsed": true,
    "jupyter": {
     "outputs_hidden": true
    }
   },
   "outputs": [
    {
     "name": "stdout",
     "output_type": "stream",
     "text": [
      "                             0\n",
      "0               Britney Spears\n",
      "1  Judas and the Black Messiah\n",
      "2                Brayden Smith\n",
      "3                        Cuomo\n",
      "4              Lincoln Project\n"
     ]
    }
   ],
   "source": [
    "# Get Google Hot Trends data\n",
    "trending_searches_df = pytrend.trending_searches()\n",
    "print(trending_searches_df.head())"
   ]
  },
  {
   "cell_type": "code",
   "execution_count": 37,
   "id": "familiar-passing",
   "metadata": {},
   "outputs": [],
   "source": [
    "# Get Google Hot Trends data\n",
    "today_searches_df = pytrend.today_searches()\n",
    "print(today_searches_df.head())"
   ]
  },
  {
   "cell_type": "markdown",
   "id": "equipped-programming",
   "metadata": {},
   "source": [
    "#### Top charts"
   ]
  },
  {
   "cell_type": "code",
   "execution_count": 163,
   "id": "collected-triple",
   "metadata": {},
   "outputs": [],
   "source": [
    "# Get Google Top Charts\n",
    "m = pytrend.top_charts(2020, hl='en-US', tz=360, geo='GLOBAL')"
   ]
  },
  {
   "cell_type": "code",
   "execution_count": 164,
   "id": "junior-printer",
   "metadata": {},
   "outputs": [
    {
     "data": {
      "text/html": [
       "<div>\n",
       "<style scoped>\n",
       "    .dataframe tbody tr th:only-of-type {\n",
       "        vertical-align: middle;\n",
       "    }\n",
       "\n",
       "    .dataframe tbody tr th {\n",
       "        vertical-align: top;\n",
       "    }\n",
       "\n",
       "    .dataframe thead th {\n",
       "        text-align: right;\n",
       "    }\n",
       "</style>\n",
       "<table border=\"1\" class=\"dataframe\">\n",
       "  <thead>\n",
       "    <tr style=\"text-align: right;\">\n",
       "      <th></th>\n",
       "      <th>title</th>\n",
       "      <th>exploreQuery</th>\n",
       "    </tr>\n",
       "  </thead>\n",
       "  <tbody>\n",
       "    <tr>\n",
       "      <th>0</th>\n",
       "      <td>Coronavirus</td>\n",
       "      <td></td>\n",
       "    </tr>\n",
       "    <tr>\n",
       "      <th>1</th>\n",
       "      <td>Election results</td>\n",
       "      <td></td>\n",
       "    </tr>\n",
       "    <tr>\n",
       "      <th>2</th>\n",
       "      <td>Kobe Bryant</td>\n",
       "      <td></td>\n",
       "    </tr>\n",
       "    <tr>\n",
       "      <th>3</th>\n",
       "      <td>Zoom</td>\n",
       "      <td></td>\n",
       "    </tr>\n",
       "    <tr>\n",
       "      <th>4</th>\n",
       "      <td>IPL</td>\n",
       "      <td></td>\n",
       "    </tr>\n",
       "    <tr>\n",
       "      <th>5</th>\n",
       "      <td>India vs New Zealand</td>\n",
       "      <td></td>\n",
       "    </tr>\n",
       "    <tr>\n",
       "      <th>6</th>\n",
       "      <td>Coronavirus update</td>\n",
       "      <td></td>\n",
       "    </tr>\n",
       "    <tr>\n",
       "      <th>7</th>\n",
       "      <td>Coronavirus symptoms</td>\n",
       "      <td></td>\n",
       "    </tr>\n",
       "    <tr>\n",
       "      <th>8</th>\n",
       "      <td>Joe Biden</td>\n",
       "      <td></td>\n",
       "    </tr>\n",
       "    <tr>\n",
       "      <th>9</th>\n",
       "      <td>Google Classroom</td>\n",
       "      <td></td>\n",
       "    </tr>\n",
       "  </tbody>\n",
       "</table>\n",
       "</div>"
      ],
      "text/plain": [
       "                  title exploreQuery\n",
       "0           Coronavirus             \n",
       "1      Election results             \n",
       "2           Kobe Bryant             \n",
       "3                  Zoom             \n",
       "4                   IPL             \n",
       "5  India vs New Zealand             \n",
       "6    Coronavirus update             \n",
       "7  Coronavirus symptoms             \n",
       "8             Joe Biden             \n",
       "9      Google Classroom             "
      ]
     },
     "execution_count": 164,
     "metadata": {},
     "output_type": "execute_result"
    }
   ],
   "source": [
    "top_charts_global"
   ]
  },
  {
   "cell_type": "code",
   "execution_count": 48,
   "id": "patient-convergence",
   "metadata": {},
   "outputs": [
    {
     "data": {
      "text/html": [
       "<div>\n",
       "<style scoped>\n",
       "    .dataframe tbody tr th:only-of-type {\n",
       "        vertical-align: middle;\n",
       "    }\n",
       "\n",
       "    .dataframe tbody tr th {\n",
       "        vertical-align: top;\n",
       "    }\n",
       "\n",
       "    .dataframe thead th {\n",
       "        text-align: right;\n",
       "    }\n",
       "</style>\n",
       "<table border=\"1\" class=\"dataframe\">\n",
       "  <thead>\n",
       "    <tr style=\"text-align: right;\">\n",
       "      <th></th>\n",
       "      <th>title</th>\n",
       "      <th>exploreQuery</th>\n",
       "    </tr>\n",
       "  </thead>\n",
       "  <tbody>\n",
       "    <tr>\n",
       "      <th>0</th>\n",
       "      <td>Coronavirus</td>\n",
       "      <td></td>\n",
       "    </tr>\n",
       "    <tr>\n",
       "      <th>1</th>\n",
       "      <td>US Wahl</td>\n",
       "      <td></td>\n",
       "    </tr>\n",
       "    <tr>\n",
       "      <th>2</th>\n",
       "      <td>Wetter morgen</td>\n",
       "      <td></td>\n",
       "    </tr>\n",
       "    <tr>\n",
       "      <th>3</th>\n",
       "      <td>Wirecard</td>\n",
       "      <td></td>\n",
       "    </tr>\n",
       "    <tr>\n",
       "      <th>4</th>\n",
       "      <td>Biontech Aktie</td>\n",
       "      <td></td>\n",
       "    </tr>\n",
       "    <tr>\n",
       "      <th>5</th>\n",
       "      <td>Kobe Bryant</td>\n",
       "      <td></td>\n",
       "    </tr>\n",
       "    <tr>\n",
       "      <th>6</th>\n",
       "      <td>iPhone 12</td>\n",
       "      <td></td>\n",
       "    </tr>\n",
       "    <tr>\n",
       "      <th>7</th>\n",
       "      <td>Disney Plus</td>\n",
       "      <td></td>\n",
       "    </tr>\n",
       "    <tr>\n",
       "      <th>8</th>\n",
       "      <td>PS5</td>\n",
       "      <td></td>\n",
       "    </tr>\n",
       "    <tr>\n",
       "      <th>9</th>\n",
       "      <td>Joe Biden</td>\n",
       "      <td></td>\n",
       "    </tr>\n",
       "  </tbody>\n",
       "</table>\n",
       "</div>"
      ],
      "text/plain": [
       "            title exploreQuery\n",
       "0     Coronavirus             \n",
       "1         US Wahl             \n",
       "2   Wetter morgen             \n",
       "3        Wirecard             \n",
       "4  Biontech Aktie             \n",
       "5     Kobe Bryant             \n",
       "6       iPhone 12             \n",
       "7     Disney Plus             \n",
       "8             PS5             \n",
       "9       Joe Biden             "
      ]
     },
     "execution_count": 48,
     "metadata": {},
     "output_type": "execute_result"
    }
   ],
   "source": [
    "top_charts_de = pytrend.top_charts(2020, hl='en-US', tz=360, geo='DE')"
   ]
  },
  {
   "cell_type": "code",
   "execution_count": 55,
   "id": "musical-topic",
   "metadata": {},
   "outputs": [
    {
     "data": {
      "text/html": [
       "<div>\n",
       "<style scoped>\n",
       "    .dataframe tbody tr th:only-of-type {\n",
       "        vertical-align: middle;\n",
       "    }\n",
       "\n",
       "    .dataframe tbody tr th {\n",
       "        vertical-align: top;\n",
       "    }\n",
       "\n",
       "    .dataframe thead th {\n",
       "        text-align: right;\n",
       "    }\n",
       "</style>\n",
       "<table border=\"1\" class=\"dataframe\">\n",
       "  <thead>\n",
       "    <tr style=\"text-align: right;\">\n",
       "      <th></th>\n",
       "      <th>title</th>\n",
       "      <th>exploreQuery</th>\n",
       "    </tr>\n",
       "  </thead>\n",
       "  <tbody>\n",
       "    <tr>\n",
       "      <th>0</th>\n",
       "      <td>Coronavirus</td>\n",
       "      <td></td>\n",
       "    </tr>\n",
       "    <tr>\n",
       "      <th>1</th>\n",
       "      <td>US election</td>\n",
       "      <td></td>\n",
       "    </tr>\n",
       "    <tr>\n",
       "      <th>2</th>\n",
       "      <td>Caroline Flack</td>\n",
       "      <td></td>\n",
       "    </tr>\n",
       "    <tr>\n",
       "      <th>3</th>\n",
       "      <td>Coronavirus symptoms</td>\n",
       "      <td></td>\n",
       "    </tr>\n",
       "    <tr>\n",
       "      <th>4</th>\n",
       "      <td>Coronavirus update</td>\n",
       "      <td></td>\n",
       "    </tr>\n",
       "    <tr>\n",
       "      <th>5</th>\n",
       "      <td>Premier League</td>\n",
       "      <td></td>\n",
       "    </tr>\n",
       "    <tr>\n",
       "      <th>6</th>\n",
       "      <td>Boris Johnson</td>\n",
       "      <td></td>\n",
       "    </tr>\n",
       "    <tr>\n",
       "      <th>7</th>\n",
       "      <td>Eat Out to Help Out</td>\n",
       "      <td></td>\n",
       "    </tr>\n",
       "    <tr>\n",
       "      <th>8</th>\n",
       "      <td>Kobe Bryant</td>\n",
       "      <td></td>\n",
       "    </tr>\n",
       "    <tr>\n",
       "      <th>9</th>\n",
       "      <td>Kim Jong-un</td>\n",
       "      <td></td>\n",
       "    </tr>\n",
       "  </tbody>\n",
       "</table>\n",
       "</div>"
      ],
      "text/plain": [
       "                  title exploreQuery\n",
       "0           Coronavirus             \n",
       "1           US election             \n",
       "2        Caroline Flack             \n",
       "3  Coronavirus symptoms             \n",
       "4    Coronavirus update             \n",
       "5        Premier League             \n",
       "6         Boris Johnson             \n",
       "7   Eat Out to Help Out             \n",
       "8           Kobe Bryant             \n",
       "9           Kim Jong-un             "
      ]
     },
     "execution_count": 55,
     "metadata": {},
     "output_type": "execute_result"
    }
   ],
   "source": [
    "top_charts_gb = pytrend.top_charts(2020, geo='GB')"
   ]
  },
  {
   "cell_type": "code",
   "execution_count": 166,
   "id": "boolean-cover",
   "metadata": {},
   "outputs": [],
   "source": [
    "top_charts_dk = pytrend.top_charts(2020, geo='DK')"
   ]
  },
  {
   "cell_type": "code",
   "execution_count": 167,
   "id": "communist-difficulty",
   "metadata": {},
   "outputs": [
    {
     "data": {
      "text/html": [
       "<div>\n",
       "<style scoped>\n",
       "    .dataframe tbody tr th:only-of-type {\n",
       "        vertical-align: middle;\n",
       "    }\n",
       "\n",
       "    .dataframe tbody tr th {\n",
       "        vertical-align: top;\n",
       "    }\n",
       "\n",
       "    .dataframe thead th {\n",
       "        text-align: right;\n",
       "    }\n",
       "</style>\n",
       "<table border=\"1\" class=\"dataframe\">\n",
       "  <thead>\n",
       "    <tr style=\"text-align: right;\">\n",
       "      <th></th>\n",
       "      <th>title</th>\n",
       "      <th>exploreQuery</th>\n",
       "    </tr>\n",
       "  </thead>\n",
       "  <tbody>\n",
       "    <tr>\n",
       "      <th>0</th>\n",
       "      <td>Romkugler</td>\n",
       "      <td></td>\n",
       "    </tr>\n",
       "    <tr>\n",
       "      <th>1</th>\n",
       "      <td>Kanelsnegle</td>\n",
       "      <td></td>\n",
       "    </tr>\n",
       "    <tr>\n",
       "      <th>2</th>\n",
       "      <td>Støvsuger</td>\n",
       "      <td></td>\n",
       "    </tr>\n",
       "    <tr>\n",
       "      <th>3</th>\n",
       "      <td>Film på Netflix</td>\n",
       "      <td></td>\n",
       "    </tr>\n",
       "    <tr>\n",
       "      <th>4</th>\n",
       "      <td>Brownie</td>\n",
       "      <td></td>\n",
       "    </tr>\n",
       "    <tr>\n",
       "      <th>5</th>\n",
       "      <td>Brød</td>\n",
       "      <td></td>\n",
       "    </tr>\n",
       "    <tr>\n",
       "      <th>6</th>\n",
       "      <td>Brætspil</td>\n",
       "      <td></td>\n",
       "    </tr>\n",
       "    <tr>\n",
       "      <th>7</th>\n",
       "      <td>Stofmundbind</td>\n",
       "      <td></td>\n",
       "    </tr>\n",
       "    <tr>\n",
       "      <th>8</th>\n",
       "      <td>Ishus</td>\n",
       "      <td></td>\n",
       "    </tr>\n",
       "    <tr>\n",
       "      <th>9</th>\n",
       "      <td>Robotplæneklipper</td>\n",
       "      <td></td>\n",
       "    </tr>\n",
       "  </tbody>\n",
       "</table>\n",
       "</div>"
      ],
      "text/plain": [
       "               title exploreQuery\n",
       "0          Romkugler             \n",
       "1        Kanelsnegle             \n",
       "2          Støvsuger             \n",
       "3    Film på Netflix             \n",
       "4            Brownie             \n",
       "5               Brød             \n",
       "6           Brætspil             \n",
       "7       Stofmundbind             \n",
       "8              Ishus             \n",
       "9  Robotplæneklipper             "
      ]
     },
     "execution_count": 167,
     "metadata": {},
     "output_type": "execute_result"
    }
   ],
   "source": [
    "top_charts_dk"
   ]
  }
 ],
 "metadata": {
  "kernelspec": {
   "display_name": "Python 3",
   "language": "python",
   "name": "python3"
  },
  "language_info": {
   "codemirror_mode": {
    "name": "ipython",
    "version": 3
   },
   "file_extension": ".py",
   "mimetype": "text/x-python",
   "name": "python",
   "nbconvert_exporter": "python",
   "pygments_lexer": "ipython3",
   "version": "3.7.9"
  }
 },
 "nbformat": 4,
 "nbformat_minor": 5
}
