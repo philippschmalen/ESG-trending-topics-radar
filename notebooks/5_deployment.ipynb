{
 "cells": [
  {
   "cell_type": "markdown",
   "id": "provincial-compilation",
   "metadata": {},
   "source": [
    "# Deployment"
   ]
  },
  {
   "cell_type": "markdown",
   "id": "frequent-england",
   "metadata": {},
   "source": [
    "## Exctract: Load locally for testing"
   ]
  },
  {
   "cell_type": "code",
   "execution_count": 1,
   "id": "incomplete-somerset",
   "metadata": {},
   "outputs": [
    {
     "data": {
      "text/plain": [
       "['../data/0_external\\\\data_science_210220_1241.csv',\n",
       " '../data/0_external\\\\sustainable_finance_210213_1046.csv',\n",
       " '../data/0_external\\\\sustainable_finance_210214_1435.csv',\n",
       " '../data/0_external\\\\sustainable_finance_210215_2133.csv',\n",
       " '../data/0_external\\\\sustainable_finance_210218_2021.csv',\n",
       " '../data/0_external\\\\sustainable_finance_210220_1029.csv',\n",
       " '../data/0_external\\\\sustainable_finance_210223_2048.csv',\n",
       " '../data/0_external\\\\sustainable_finance_210227_2137.csv',\n",
       " '../data/0_external\\\\sustainable_finance_210228_0929.csv',\n",
       " '../data/0_external\\\\sustainable_finance_210302_2147.csv',\n",
       " '../data/0_external\\\\sustainable_finance_210306_1030.csv',\n",
       " '../data/0_external\\\\sustainable_finance_210310_2022.csv',\n",
       " '../data/0_external\\\\sustainable_finance_210314_2142.csv',\n",
       " '../data/0_external\\\\sustainable_finance_210318_2048.csv',\n",
       " '../data/0_external\\\\sustainable_finance_210319_0813.csv']"
      ]
     },
     "execution_count": 1,
     "metadata": {},
     "output_type": "execute_result"
    }
   ],
   "source": [
    "from glob import glob\n",
    "glob('../data/0_external/*csv')"
   ]
  },
  {
   "cell_type": "markdown",
   "id": "drawn-publication",
   "metadata": {},
   "source": [
    "## Transform"
   ]
  },
  {
   "cell_type": "code",
   "execution_count": 2,
   "id": "aerial-vaccine",
   "metadata": {},
   "outputs": [],
   "source": [
    "# %load ../pipelines/esg_trending_topics/transform.py\n",
    "\n",
    "import pandas as pd\n",
    "import numpy as np\n",
    "from datetime import datetime\n",
    "\n",
    "# ~------------------ RESPONSE DATA ------------------~\n",
    "def process_response(response, kw, ranking, geo):\n",
    "    \"\"\"  \"\"\"\n",
    "    try:\n",
    "        df = response[kw][ranking]\n",
    "        df[['keyword', 'ranking', 'geo', 'query_timestamp']] = [kw, ranking, geo, datetime.now()]\n",
    "    except:\n",
    "        print(f\"Append empty dataframe for {ranking}: {kw}\")\n",
    "        return pd.DataFrame(columns=['query', 'value', 'keyword', 'ranking', 'geo', 'query_timestamp'])\n",
    "    \n",
    "    return df\n",
    "\n",
    "def create_response_df(response, geo='global'):\n",
    "    \"\"\" Create one dataframe for each ranking and each keyword \"\"\"\n",
    "    assert isinstance(response, dict), \"Empty response, caught in transform.py. Try again.\" \n",
    "\n",
    "    ranking = [*response[[*response][0]]]\n",
    "    keywords = [*response]\n",
    "\n",
    "    df_list = []\n",
    "    for r in ranking: \n",
    "        for kw in keywords:\n",
    "            df_list.append(process_response(response, kw=kw, ranking=r, geo=geo))\n",
    "\n",
    "    return pd.concat(df_list)\n",
    "\n",
    "\n",
    "\n",
    "# ~------------------ PLOT DATA ------------------~\n",
    "def add_features(df):\n",
    "    \"\"\" Create normalized values for even display \"\"\"\n",
    "    \n",
    "    assert set([\"query\", \"value\", \"keyword\", \"ranking\", \"query_timestamp\", \"geo\"]).issubset(df.columns), \"Add features failed. \\\n",
    "    Missing one of [query, value, keyword, ranking, query_timestamp, geo]\"\n",
    "    \n",
    "    # feature engineering: totals and normalize\n",
    "    grouped = df.groupby(['ranking']).value # group values by ranking\n",
    "    df['value_total'] = grouped.transform('sum') # total sum \n",
    "    df['value_normalized'] = ((df.value-grouped.transform('min'))/(grouped.transform('max')-grouped.transform('min'))).astype(float) \n",
    "    df['value_normalized_total'] = df.groupby(['ranking']).value_normalized.transform('sum') # total sum of normalized values \n",
    "    df['date'] = pd.to_datetime(df.query_timestamp).dt.strftime(\"%d. %B %Y\")\n",
    "    \n",
    "    return df\n",
    "\n",
    "def select_topn(df, top_n):\n",
    "    \"\"\" Select top-n keywords for each ranking ordered by value \"\"\"\n",
    "    assert df.columns.str.contains(\"ranking\").any(), \"select_topn failed. Missing 'ranking' column.\"\n",
    "\n",
    "    df = df.reset_index(drop=True)\n",
    "    df.value = pd.to_numeric(df.value, errors='coerce') # avoid object dtype\n",
    "    topn_idx = df.groupby(\"ranking\")['value'].nlargest(top_n).droplevel(0).index\n",
    "\n",
    "    return df.loc[topn_idx, : ]\n",
    "\n",
    "def sanitize_labels(df):\n",
    "    \"\"\" Insert linebreaks and create headings \"\"\"\n",
    "    df['labels'] = df['query'].apply(lambda x: x.replace(' ', '<br>')) # linebreaks\n",
    "    df['ranking_label'] = df.ranking.replace({'top': f'Evergreens - updated {df.date.to_list()[0]}',\n",
    "                                              'rising': f'Trending - updated {df.date.to_list()[0]}'})\n",
    "   \n",
    "    return df\n",
    "\n",
    "def plot_data(df, top_n=35):\n",
    "    \"\"\" Return 2 dataframes: Newcomer (\"rising\") and top charts (\"top\") \"\"\"\n",
    "    df = (df.pipe(select_topn, top_n)\n",
    "            .pipe(add_features)\n",
    "            .pipe(sanitize_labels)\n",
    "            )\n",
    "\n",
    "    # rankings: top and rising    \n",
    "    return df.query('ranking == \"rising\"'),  df.query('ranking == \"top\"')\n"
   ]
  },
  {
   "cell_type": "code",
   "execution_count": 13,
   "id": "different-telephone",
   "metadata": {},
   "outputs": [],
   "source": [
    "# %load ../pipelines/esg_trending_topics/deploy.py\n",
    "import pandas as pd\n",
    "import plotly.graph_objects as go\n",
    "from plotly.subplots import make_subplots\n",
    "import chart_studio.plotly as py\n",
    "\n",
    "def create_plot(dfr, dft):\n",
    "    \"\"\" Create treemap for Trending (=\"Rising\") - dfr - and Top keywords - dft \"\"\"\n",
    "    \n",
    "    assert dfr.columns.str.contains(\"labels\").any(), \"dfr does not contain 'labels' columns\"\n",
    "    assert dft.columns.str.contains(\"labels\").any(), \"dft does not contain 'labels' columns\"\n",
    "    assert dfr.columns.str.contains(\"ranking_label\").any(), \"dfr does not contain 'ranking_label' columns\"\n",
    "    assert dft.columns.str.contains(\"ranking_label\").any(), \"dft does not contain 'ranking_label' columns\"\n",
    "    assert dfr.columns.str.contains(\"value_normalized\").any(), \"dfr does not contain 'value_normalized' columns\"\n",
    "    assert dfr.columns.str.contains(\"value_normalized\").any(), \"dft does not contain 'value_normalized' columns\"\n",
    "    \n",
    "    fig = make_subplots(2, 1, specs=[[{\"type\": \"domain\"}], [ {\"type\": \"domain\"}]])\n",
    "\n",
    "    fig.add_trace(go.Treemap(\n",
    "        labels = dfr['labels'], #_href\n",
    "        parents = dfr.ranking_label, \n",
    "        values = dfr.value_normalized, \n",
    "    ), 1, 1)\n",
    "\n",
    "    fig.add_trace(go.Treemap(\n",
    "        labels = dft['labels'],\n",
    "        parents = dft.ranking_label, \n",
    "        values = dft.value_normalized\n",
    "    ), 2, 1)\n",
    "\n",
    "    fig.update_layout(margin=dict(t=10, b=10, r=10, l=10), \n",
    "                      plot_bgcolor= \"rgba(0, 0, 0, 0)\",\n",
    "                      paper_bgcolor= \"rgba(0, 0, 0, 0)\",\n",
    "                     )\n",
    "\n",
    "    fig.update_traces(\n",
    "        opacity=1, \n",
    "        textposition='middle center', \n",
    "        textfont={'family':\"Arial\", 'size': 20}, \n",
    "        hoverinfo= \"label\", # \"skip\",\n",
    "        tiling = {'squarifyratio': 1, 'pad': 0}, \n",
    "        textfont_size=24, \n",
    "        marker={\n",
    "            'depthfade': True,\n",
    "            'cauto': True,\n",
    "        }\n",
    "    )\n",
    "    \n",
    "    return fig\n",
    "\n",
    "def deploy_plot(figure, filename):    \n",
    "    \"\"\" Upload graph to chartstudio \"\"\"\n",
    "    print(f\"Upload figure {filename} to plotly\")\n",
    "    py.plot(figure, filename=filename)\n",
    "\n",
    "\n"
   ]
  },
  {
   "cell_type": "markdown",
   "id": "blind-gibraltar",
   "metadata": {},
   "source": [
    "# Testing"
   ]
  },
  {
   "cell_type": "code",
   "execution_count": 6,
   "id": "fixed-australia",
   "metadata": {},
   "outputs": [],
   "source": [
    "from glob import glob\n",
    "files = glob('../data/0_external/*csv')"
   ]
  },
  {
   "cell_type": "code",
   "execution_count": 8,
   "id": "inner-victorian",
   "metadata": {},
   "outputs": [
    {
     "name": "stdout",
     "output_type": "stream",
     "text": [
      "Load ../data/0_external\\sustainable_finance_210319_0813.csv\n"
     ]
    }
   ],
   "source": [
    "load_file = files[-1]\n",
    "print(f\"Load {load_file}\")\n",
    "df = pd.read_csv(load_file)"
   ]
  },
  {
   "cell_type": "code",
   "execution_count": 14,
   "id": "transsexual-burke",
   "metadata": {},
   "outputs": [
    {
     "name": "stdout",
     "output_type": "stream",
     "text": [
      "Upload figure sustainable_finance to plotly\n"
     ]
    }
   ],
   "source": [
    "dfr, dft = plot_data(df)\n",
    "fig = create_plot(dfr, dft)\n",
    "deploy_plot(fig, filename='sustainable_finance')"
   ]
  }
 ],
 "metadata": {
  "kernelspec": {
   "display_name": "Python 3",
   "language": "python",
   "name": "python3"
  },
  "language_info": {
   "codemirror_mode": {
    "name": "ipython",
    "version": 3
   },
   "file_extension": ".py",
   "mimetype": "text/x-python",
   "name": "python",
   "nbconvert_exporter": "python",
   "pygments_lexer": "ipython3",
   "version": "3.7.9"
  }
 },
 "nbformat": 4,
 "nbformat_minor": 5
}
