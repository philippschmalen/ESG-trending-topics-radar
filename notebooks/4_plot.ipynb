{
 "cells": [
  {
   "cell_type": "code",
   "execution_count": 123,
   "id": "therapeutic-character",
   "metadata": {},
   "outputs": [
    {
     "name": "stdout",
     "output_type": "stream",
     "text": [
      "Appending to ../pipelines/esg_trending_topics/transform.py\n"
     ]
    }
   ],
   "source": [
    "%%writefile -a ../pipelines/esg_trending_topics/transform.py\n",
    "\n",
    "import pandas as pd\n",
    "\n",
    "def add_features(df, keep_n_largest=25):\n",
    "    \"\"\" Create normalized values for even display \"\"\"\n",
    "    \n",
    "    assert df.columns.str.contains(\"query|value|keyword|ranking|timestamp|geo\").all(), \"Add features failed. \\\n",
    "    Missing one of [query, value, keyword, ranking, timestamp, geo]\"\n",
    "    \n",
    "    # feature engineering: totals and normalize\n",
    "    grouped = df.groupby(['ranking']).value # group values by ranking\n",
    "    df['value_total'] = grouped.transform('sum') # total sum \n",
    "    df['value_normalized'] = (df.value-grouped.transform('min'))/(grouped.transform('max')-grouped.transform('min')) # normalize \n",
    "    df['value_normalized_total'] = df.groupby(['ranking']).value_normalized.transform('sum') # total sum of normalized values \n",
    "    df['date'] = pd.to_datetime(df.query_timestamp).dt.strftime(\"%d. %B %Y\")\n",
    "    \n",
    "    return df\n",
    "\n",
    "def select_topn(df, top_n=25):\n",
    "    \"\"\" Select top-n keywords for each ranking and value_normalized \"\"\"\n",
    "    assert df.columns.str.contains(\"ranking\").any(), \"select_topn failed. Missing 'ranking' column.\"\n",
    "    \n",
    "    # top-n by ranking\n",
    "    topn_idx = df.groupby(\"ranking\").value_normalized.nlargest(top_n).droplevel(0).index\n",
    "    \n",
    "    return df.loc[topn_idx, : ]\n",
    "\n",
    "def sanitize_labels(df):\n",
    "    \"\"\" Insert linebreaks and create headings \"\"\"\n",
    "    df['labels'] = df['query'].apply(lambda x: x.replace(' ', '<br>')) # linebreaks\n",
    "    df['ranking_label'] = df.ranking.replace({'top': f'Evergreens - updated {df.date[0]}',\n",
    "                                              'rising': f'Trending - updated {df.date[0]}'})\n",
    "    return df\n",
    "\n",
    "def transform_plot_data(df):\n",
    "    \"\"\" Return 2 dataframes: Newcomer (\"rising\") and top charts (\"top\") \"\"\"\n",
    "    df = (df.pipe(add_features)\n",
    "            .pipe(select_topn, top_n=TOP_N)\n",
    "            .pipe(sanitize_labels))\n",
    "    \n",
    "    # rankings: top and rising    \n",
    "    return df.query('ranking == \"rising\"'),  df.query('ranking == \"top\"')"
   ]
  }
 ],
 "metadata": {
  "kernelspec": {
   "display_name": "Python 3",
   "language": "python",
   "name": "python3"
  },
  "language_info": {
   "codemirror_mode": {
    "name": "ipython",
    "version": 3
   },
   "file_extension": ".py",
   "mimetype": "text/x-python",
   "name": "python",
   "nbconvert_exporter": "python",
   "pygments_lexer": "ipython3",
   "version": "3.7.9"
  }
 },
 "nbformat": 4,
 "nbformat_minor": 5
}
