{
 "cells": [
  {
   "cell_type": "code",
   "execution_count": 2,
   "id": "indonesian-prior",
   "metadata": {},
   "outputs": [
    {
     "name": "stdout",
     "output_type": "stream",
     "text": [
      "Writing ../pipelines/esg_trending_topics/extract.py\n"
     ]
    }
   ],
   "source": [
    "%%writefile ../pipelines/esg_trending_topics/extract.py\n",
    "import pandas as pd\n",
    "from pytrends.request import TrendReq\n",
    "\n",
    "# ~------------------ EXTRACT ------------------~\n",
    "def get_queries(kw_list):\n",
    "    \"\"\" Calls pytrend' related_queries with a list of keywords and geo settings \n",
    "    Input\n",
    "        pytrend: TrendReq() session of pytrend\n",
    "        kw_list: list of strings, used as input for query and passed to TrendReq().build_payload() \n",
    "    Return\n",
    "        Dataframe with query result\n",
    "    \"\"\"    \n",
    "    df_related_queries = pd.DataFrame()\n",
    "    try:\n",
    "        pytrend = TrendReq() \n",
    "        pytrend.build_payload(kw_list)\n",
    "        df_related_queries = pytrend.related_queries()\n",
    "\n",
    "        print(f\"Query succeeded for\", *kw_list, sep='\\n\\t')\n",
    "    except Exception as e:\n",
    "        print(e, \"\\nQuery not unsuccessful\\n\", '='*42)\n",
    "\n",
    "    return df_related_queries"
   ]
  }
 ],
 "metadata": {
  "kernelspec": {
   "display_name": "Python 3",
   "language": "python",
   "name": "python3"
  },
  "language_info": {
   "codemirror_mode": {
    "name": "ipython",
    "version": 3
   },
   "file_extension": ".py",
   "mimetype": "text/x-python",
   "name": "python",
   "nbconvert_exporter": "python",
   "pygments_lexer": "ipython3",
   "version": "3.7.9"
  }
 },
 "nbformat": 4,
 "nbformat_minor": 5
}
